{
  "nbformat": 4,
  "nbformat_minor": 0,
  "metadata": {
    "colab": {
      "provenance": []
    },
    "kernelspec": {
      "name": "python3",
      "display_name": "Python 3"
    },
    "language_info": {
      "name": "python"
    }
  },
  "cells": [
    {
      "cell_type": "markdown",
      "source": [
        "# **User-defined Functions**"
      ],
      "metadata": {
        "id": "Xk_KuA2x9yph"
      }
    },
    {
      "cell_type": "code",
      "metadata": {
        "colab": {
          "base_uri": "https://localhost:8080/"
        },
        "id": "U24Pz8zZ6Cuy",
        "outputId": "756ad109-bab5-40cd-fab4-f828d6035c0a"
      },
      "source": [
        "# Define the function shout\n",
        "def shout():\n",
        "    \"\"\"Print a string with three exclamation marks\"\"\"\n",
        "    # Concatenate the strings: shout_word\n",
        "    shout_word = 'congratulations' + '!!!'\n",
        "\n",
        "    # Print shout_word\n",
        "    print(shout_word)\n",
        "\n",
        "# Call shout\n",
        "shout()\n",
        "\n",
        "# Define shout with the parameter, word\n",
        "def shout(word):\n",
        "    \"\"\"Print a string with three exclamation marks\"\"\"\n",
        "    # Concatenate the strings: shout_word\n",
        "    shout_word = word + '!!!'\n",
        "\n",
        "    # Print shout_word\n",
        "    print(shout_word)\n",
        "\n",
        "# Call shout with the string 'congratulations'\n",
        "shout('congratulations')\n",
        "\n",
        "# Define shout with the parameter, word\n",
        "def shout(word):\n",
        "    \"\"\"Return a string with three exclamation marks\"\"\"\n",
        "    # Concatenate the strings: shout_word\n",
        "    shout_word = word + \"!!!\"\n",
        "\n",
        "    # Replace print with return\n",
        "    return shout_word\n",
        "\n",
        "# Pass 'congratulations' to shout: yell\n",
        "yell = shout('congratulations')\n",
        "\n",
        "# Print yell\n",
        "print(yell)\n",
        "\n",
        "# Define shout with parameters word1 and word2\n",
        "def shout(word1, word2):\n",
        "    \"\"\"Concatenate strings with three exclamation marks\"\"\"\n",
        "    # Concatenate word with '!!!': shout\n",
        "    shout1, shout2 = word1 + \"!!!\", word2 + \"!!!\"\n",
        "\n",
        "    # Concatenate shout1 with shout2: new_shout\n",
        "    new_shout = shout1 + shout2\n",
        "\n",
        "    # Return new_shout\n",
        "    return new_shout\n",
        "\n",
        "# Pass 'congratulations' and 'you' to shout(): yell\n",
        "yell = shout(\"congratulations\", \"you\")\n",
        "\n",
        "# Print yell\n",
        "print(yell)\n",
        "\n",
        "nums = (3, 4, 6)\n",
        "# Unpack nums into num1, num2, and num3\n",
        "num1, num2, num3 = nums\n",
        "\n",
        "# Construct even_nums\n",
        "even_nums = (2, num2, num3)\n",
        "\n",
        "# Define shout_all with parameters word1 and word2\n",
        "def shout_all(word1, word2):\n",
        "\n",
        "    # Concatenate word1 with '!!!': shout1\n",
        "    shout1 = word1 + \"!!!\"\n",
        "\n",
        "    # Concatenate word2 with '!!!': shout2\n",
        "    shout2 = word2 + \"!!!\"\n",
        "\n",
        "    # Construct a tuple with shout1 and shout2: shout_words\n",
        "    shout_words = (shout1, shout2)\n",
        "\n",
        "    # Return shout_words\n",
        "    return shout_words\n",
        "\n",
        "# Pass 'congratulations' and 'you' to shout_all(): yell1, yell2\n",
        "yell1, yell2 = shout_all(\"congratulations\", \"you\")\n",
        "\n",
        "# Print yell1 and yell2\n",
        "print(yell1)\n",
        "print(yell2)\n"
      ],
      "execution_count": null,
      "outputs": [
        {
          "output_type": "stream",
          "text": [
            "congratulations!!!\n",
            "congratulations!!!\n",
            "congratulations!!!\n",
            "congratulations!!!you!!!\n",
            "congratulations!!!\n",
            "you!!!\n"
          ],
          "name": "stdout"
        }
      ]
    },
    {
      "cell_type": "markdown",
      "source": [
        "\n",
        "- Import the file `'tweets.csv'` using the pandas function `read_csv()`. Assign the resulting DataFrame to `df`.\n",
        "- Complete the `for` loop by iterating over `col`, the `'lang'` column in the DataFrame `df`.\n",
        "- Complete the bodies of the if-else statements in the for loop:\n",
        "  - if the key is in the dictionary `langs_count`, add `1` to the value corresponding to this key in the dictionary,\n",
        "  - else add the key to `langs_count` and set the corresponding value to `1.` Use the loop variable `entry` in your code."
      ],
      "metadata": {
        "id": "UV2OY1a77ST1"
      }
    },
    {
      "cell_type": "code",
      "metadata": {
        "colab": {
          "base_uri": "https://localhost:8080/"
        },
        "id": "LDCrL2yA6q92",
        "outputId": "204b0e40-71b6-40ba-8fdf-04912d4c9cc2"
      },
      "source": [
        "# Import pandas\n",
        "import pandas as pd\n",
        "from collections import Counter\n",
        "tweets_df = pd.read_csv(\"tweets.csv\")\n",
        "\n",
        "\n",
        "# Import Twitter data as DataFrame: df\n",
        "df = pd.read_csv(\"tweets.csv\")\n",
        "\n",
        "# Initialize an empty dictionary: langs_count\n",
        "langs_count = {}\n",
        "\n",
        "# Extract column from DataFrame: col\n",
        "col = df['lang']\n",
        "\n",
        "# Iterate over lang column in DataFrame\n",
        "for entry in col:\n",
        "\n",
        "    # If the language is in langs_count, add 1\n",
        "    if entry in langs_count.keys():\n",
        "        langs_count[entry] += 1\n",
        "    # Else add the language to langs_count, set the value to 1\n",
        "    else:\n",
        "        langs_count[entry] = 1\n",
        "\n",
        "# Print the populated dictionary\n",
        "print(langs_count)\n",
        "\n",
        "\n"
      ],
      "execution_count": null,
      "outputs": [
        {
          "output_type": "stream",
          "name": "stdout",
          "text": [
            "{'en': 97, 'et': 1, 'und': 2}\n"
          ]
        }
      ]
    },
    {
      "cell_type": "markdown",
      "source": [
        "* Define the function `count_entries()`, which has two parameters. The first parameter is `df` for the DataFrame and the second is `col_name` for the column name.\n",
        "\n",
        "* Complete the bodies of the if-else statements in the `for` loop:\n",
        "  - if the key is in the dictionary `langs_count`, add `1` to its current value,\n",
        "  - else add the key to `langs_count` and set its value to `1`. Use the loop variable `entry` in your code.\n",
        "\n",
        "- Return the `langs_count` dictionary from inside the `count_entries()` function.\n",
        "\n",
        "- Call the `count_entries()` function by passing to it `tweets_df` and the name of the column, `'lang'`. Assign the result of the call to the variable `result`."
      ],
      "metadata": {
        "id": "r8uJlhub8fiF"
      }
    },
    {
      "cell_type": "code",
      "source": [
        "# Define count_entries()\n",
        "def count_entries(df, col_name):\n",
        "    \"\"\"Return a dictionary with counts of\n",
        "    occurrences as value for each key.\"\"\"\n",
        "\n",
        "    # Initialize an empty dictionary: langs_count\n",
        "    langs_count = {}\n",
        "\n",
        "    # Extract column from DataFrame: col\n",
        "    col = df[col_name]\n",
        "\n",
        "    # Iterate over lang column in DataFrame\n",
        "    for entry in col:\n",
        "\n",
        "        # If the language is in langs_count, add 1\n",
        "        if entry in langs_count.keys():\n",
        "            langs_count[entry] += 1\n",
        "        # Else add the language to langs_count, set the value to 1\n",
        "        else:\n",
        "            langs_count[entry] = 1\n",
        "\n",
        "    # Return the langs_count dictionary\n",
        "    return langs_count\n",
        "\n",
        "# Call count_entries(): result\n",
        "result = count_entries(tweets_df, \"lang\")\n",
        "\n",
        "# Print the result\n",
        "print(result)\n",
        "\n",
        "# Using Counter is more pratical\n",
        "print(Counter(col))"
      ],
      "metadata": {
        "colab": {
          "base_uri": "https://localhost:8080/"
        },
        "id": "edHxzHyV8gIT",
        "outputId": "1164b36b-af79-4a5d-cd4d-7ec512b861ea"
      },
      "execution_count": null,
      "outputs": [
        {
          "output_type": "stream",
          "name": "stdout",
          "text": [
            "{'en': 97, 'et': 1, 'und': 2}\n",
            "Counter({'en': 97, 'und': 2, 'et': 1})\n"
          ]
        }
      ]
    },
    {
      "cell_type": "markdown",
      "source": [
        "# **Scope**"
      ],
      "metadata": {
        "id": "bF0OdXzp9w-W"
      }
    },
    {
      "cell_type": "code",
      "source": [
        "new_val = 10\n",
        "\n",
        "def square(value):\n",
        "    new_value2 = new_val ** 2\n",
        "    return new_value2\n",
        "\n",
        "print(square(3))\n",
        "print(new_val)"
      ],
      "metadata": {
        "colab": {
          "base_uri": "https://localhost:8080/"
        },
        "id": "RQK5xoETzWCE",
        "outputId": "dfcdd46f-a07a-48ce-859e-e764656c5957"
      },
      "execution_count": null,
      "outputs": [
        {
          "output_type": "stream",
          "name": "stdout",
          "text": [
            "100\n",
            "10\n"
          ]
        }
      ]
    },
    {
      "cell_type": "markdown",
      "source": [
        "To change the global variable, need to use **`global`** statement."
      ],
      "metadata": {
        "id": "oa_2KUUfzs_a"
      }
    },
    {
      "cell_type": "code",
      "source": [
        "new_val = 10\n",
        "\n",
        "def square(value):\n",
        "    global new_val\n",
        "    new_val = new_val ** 2\n",
        "    return new_val\n",
        "\n",
        "print(square(3))\n",
        "print(new_val)\n",
        "\n"
      ],
      "metadata": {
        "colab": {
          "base_uri": "https://localhost:8080/"
        },
        "id": "w6GEfn0yzk5S",
        "outputId": "d3e51c19-adf8-4413-a361-7014201bc8b4"
      },
      "execution_count": null,
      "outputs": [
        {
          "output_type": "stream",
          "name": "stdout",
          "text": [
            "100\n",
            "100\n"
          ]
        }
      ]
    },
    {
      "cell_type": "markdown",
      "source": [
        "## **The keyword global**\n",
        "\n",
        "Let's work more on your mastery of scope. In this exercise, you will use the keyword **`global`** within a function to alter the value of a variable defined in the global scope.\n",
        "\n",
        "* Use the keyword **`global`** to alter the object team in the global scope.\n",
        "\n",
        "* Change the value of `team` in the global scope to the string `\"justice league\"`. Assign the result to `team`.\n",
        "\n",
        "* See how executing your newly defined function `change_team()` changes the value of the name `team`!"
      ],
      "metadata": {
        "id": "Z29HNIO613wH"
      }
    },
    {
      "cell_type": "code",
      "metadata": {
        "colab": {
          "base_uri": "https://localhost:8080/"
        },
        "id": "pSmNO6fGNkyl",
        "outputId": "5cbe1028-cf00-40ec-806e-ebbba10f461d"
      },
      "source": [
        "# Create a string: team\n",
        "team = \"teen titans\"\n",
        "\n",
        "# Define change_team()\n",
        "def change_team():\n",
        "    \"\"\"Change the value of the global variable team.\"\"\"\n",
        "\n",
        "    # Use team in global scope\n",
        "    global team\n",
        "\n",
        "    # Change the value of team in global: team\n",
        "    team = \"justice league\"\n",
        "# Print team\n",
        "print(team)\n",
        "\n",
        "# Call change_team()\n",
        "change_team()\n",
        "\n",
        "# Print team\n",
        "print(team)"
      ],
      "execution_count": null,
      "outputs": [
        {
          "output_type": "stream",
          "text": [
            "teen titans\n",
            "justice league\n"
          ],
          "name": "stdout"
        }
      ]
    },
    {
      "cell_type": "markdown",
      "source": [
        "### **Python's built-in scope**\n",
        "\n",
        "To check out Python's built-in scope, which is really just a built-in module called **`builtins`**. However, to query **`builtins`**, you'll need to `import builtins`. After this execute `dir(builtins)` to print a list of all the names in the module builtins."
      ],
      "metadata": {
        "id": "PMJIxU7cayon"
      }
    },
    {
      "cell_type": "code",
      "source": [
        "import builtins\n",
        "dir(builtins)"
      ],
      "metadata": {
        "colab": {
          "base_uri": "https://localhost:8080/"
        },
        "id": "kxsMkrrRbm9q",
        "outputId": "b240f0ec-d8df-4495-8b9c-0ddcbee7f3f9"
      },
      "execution_count": null,
      "outputs": [
        {
          "output_type": "execute_result",
          "data": {
            "text/plain": [
              "['ArithmeticError',\n",
              " 'AssertionError',\n",
              " 'AttributeError',\n",
              " 'BaseException',\n",
              " 'BlockingIOError',\n",
              " 'BrokenPipeError',\n",
              " 'BufferError',\n",
              " 'BytesWarning',\n",
              " 'ChildProcessError',\n",
              " 'ConnectionAbortedError',\n",
              " 'ConnectionError',\n",
              " 'ConnectionRefusedError',\n",
              " 'ConnectionResetError',\n",
              " 'DeprecationWarning',\n",
              " 'EOFError',\n",
              " 'Ellipsis',\n",
              " 'EncodingWarning',\n",
              " 'EnvironmentError',\n",
              " 'Exception',\n",
              " 'False',\n",
              " 'FileExistsError',\n",
              " 'FileNotFoundError',\n",
              " 'FloatingPointError',\n",
              " 'FutureWarning',\n",
              " 'GeneratorExit',\n",
              " 'IOError',\n",
              " 'ImportError',\n",
              " 'ImportWarning',\n",
              " 'IndentationError',\n",
              " 'IndexError',\n",
              " 'InterruptedError',\n",
              " 'IsADirectoryError',\n",
              " 'KeyError',\n",
              " 'KeyboardInterrupt',\n",
              " 'LookupError',\n",
              " 'MemoryError',\n",
              " 'ModuleNotFoundError',\n",
              " 'NameError',\n",
              " 'None',\n",
              " 'NotADirectoryError',\n",
              " 'NotImplemented',\n",
              " 'NotImplementedError',\n",
              " 'OSError',\n",
              " 'OverflowError',\n",
              " 'PendingDeprecationWarning',\n",
              " 'PermissionError',\n",
              " 'ProcessLookupError',\n",
              " 'RecursionError',\n",
              " 'ReferenceError',\n",
              " 'ResourceWarning',\n",
              " 'RuntimeError',\n",
              " 'RuntimeWarning',\n",
              " 'StopAsyncIteration',\n",
              " 'StopIteration',\n",
              " 'SyntaxError',\n",
              " 'SyntaxWarning',\n",
              " 'SystemError',\n",
              " 'SystemExit',\n",
              " 'TabError',\n",
              " 'TimeoutError',\n",
              " 'True',\n",
              " 'TypeError',\n",
              " 'UnboundLocalError',\n",
              " 'UnicodeDecodeError',\n",
              " 'UnicodeEncodeError',\n",
              " 'UnicodeError',\n",
              " 'UnicodeTranslateError',\n",
              " 'UnicodeWarning',\n",
              " 'UserWarning',\n",
              " 'ValueError',\n",
              " 'Warning',\n",
              " 'ZeroDivisionError',\n",
              " '__IPYTHON__',\n",
              " '__build_class__',\n",
              " '__debug__',\n",
              " '__doc__',\n",
              " '__import__',\n",
              " '__loader__',\n",
              " '__name__',\n",
              " '__package__',\n",
              " '__spec__',\n",
              " 'abs',\n",
              " 'aiter',\n",
              " 'all',\n",
              " 'anext',\n",
              " 'any',\n",
              " 'ascii',\n",
              " 'bin',\n",
              " 'bool',\n",
              " 'breakpoint',\n",
              " 'bytearray',\n",
              " 'bytes',\n",
              " 'callable',\n",
              " 'chr',\n",
              " 'classmethod',\n",
              " 'compile',\n",
              " 'complex',\n",
              " 'copyright',\n",
              " 'credits',\n",
              " 'delattr',\n",
              " 'dict',\n",
              " 'dir',\n",
              " 'display',\n",
              " 'divmod',\n",
              " 'enumerate',\n",
              " 'eval',\n",
              " 'exec',\n",
              " 'execfile',\n",
              " 'filter',\n",
              " 'float',\n",
              " 'format',\n",
              " 'frozenset',\n",
              " 'get_ipython',\n",
              " 'getattr',\n",
              " 'globals',\n",
              " 'hasattr',\n",
              " 'hash',\n",
              " 'help',\n",
              " 'hex',\n",
              " 'id',\n",
              " 'input',\n",
              " 'int',\n",
              " 'isinstance',\n",
              " 'issubclass',\n",
              " 'iter',\n",
              " 'len',\n",
              " 'license',\n",
              " 'list',\n",
              " 'locals',\n",
              " 'map',\n",
              " 'max',\n",
              " 'memoryview',\n",
              " 'min',\n",
              " 'next',\n",
              " 'object',\n",
              " 'oct',\n",
              " 'open',\n",
              " 'ord',\n",
              " 'pow',\n",
              " 'print',\n",
              " 'property',\n",
              " 'range',\n",
              " 'repr',\n",
              " 'reversed',\n",
              " 'round',\n",
              " 'runfile',\n",
              " 'set',\n",
              " 'setattr',\n",
              " 'slice',\n",
              " 'sorted',\n",
              " 'staticmethod',\n",
              " 'str',\n",
              " 'sum',\n",
              " 'super',\n",
              " 'tuple',\n",
              " 'type',\n",
              " 'vars',\n",
              " 'zip']"
            ]
          },
          "metadata": {},
          "execution_count": 1
        }
      ]
    },
    {
      "cell_type": "markdown",
      "source": [
        "# **Nested Functions**\n",
        "\n",
        "- Search the name of variable `x` in the inner function first.\n",
        "- If not found, search the outer function.\n",
        "- If not found in outer function, search global scope.\n",
        "- If not found in global, search **`builtins`**"
      ],
      "metadata": {
        "id": "L5N8yR2GcBvF"
      }
    },
    {
      "cell_type": "code",
      "source": [
        "def outer( ... ):\n",
        "    \"\"\" ... \"\"\"\n",
        "    x = ...\n",
        "\n",
        "    def inner( ... ):\n",
        "        \"\"\" ... \"\"\"\n",
        "        y = x ** 2\n",
        "    return ..."
      ],
      "metadata": {
        "id": "odxmwnCAclVJ"
      },
      "execution_count": null,
      "outputs": []
    },
    {
      "cell_type": "markdown",
      "source": [
        "## **Why use nested function?**\n",
        "\n",
        "The function below is not practical."
      ],
      "metadata": {
        "id": "3oMGBl5ieBaE"
      }
    },
    {
      "cell_type": "code",
      "source": [
        "def mod2plus5(x1, x2, x3):\n",
        "    \"\"\"Returns the remainder plus 5 of three values.\"\"\"\n",
        "    new_x1 = x1 % 2 + 5\n",
        "    new_x2 = x2 % 2 + 5\n",
        "    new_x3 = x3 % 2 + 5\n",
        "    return (new_x1, new_x2, new_x3)"
      ],
      "metadata": {
        "id": "zSj3CZXMeK9a"
      },
      "execution_count": null,
      "outputs": []
    },
    {
      "cell_type": "markdown",
      "source": [
        "Instead, use nested function"
      ],
      "metadata": {
        "id": "ln_F07V4eQXM"
      }
    },
    {
      "cell_type": "code",
      "source": [
        "def mod2plus5(x1, x2, x3):\n",
        "    \"\"\"Returns the remainder plus 5 of three values.\"\"\"\n",
        "    def inner(x):\n",
        "        \"\"\"Returns the remainder plus 5 of a value.\"\"\"\n",
        "        return x % 2 + 5\n",
        "    return (inner(x1), inner(x2), inner(x3))\n",
        "\n",
        "print(mod2plus5(1, 2, 3))"
      ],
      "metadata": {
        "colab": {
          "base_uri": "https://localhost:8080/"
        },
        "id": "n1FgsjGueXY9",
        "outputId": "3e99d200-daa7-4277-8f89-c9eefe54b081"
      },
      "execution_count": null,
      "outputs": [
        {
          "output_type": "stream",
          "name": "stdout",
          "text": [
            "(6, 5, 6)\n"
          ]
        }
      ]
    },
    {
      "cell_type": "markdown",
      "source": [
        "## **Function that returns function**\n",
        "\n",
        "`raise_val(3)` = `inner`\n",
        "\n",
        "`raise_val(3)(4)` = `inner(4)` = $4^3$ = 64."
      ],
      "metadata": {
        "id": "TkgQ0MT2e4bB"
      }
    },
    {
      "cell_type": "code",
      "source": [
        "def raise_val(n):\n",
        "    \"\"\"Return the inner function.\"\"\"\n",
        "    def inner(x):\n",
        "        \"\"\"Raise x to the power of n.\"\"\"\n",
        "        raised = x ** n\n",
        "        return raised\n",
        "    return inner\n",
        "\n",
        "square = raise_val(2)\n",
        "cube = raise_val(3)\n",
        "print(square(2), cube(4))\n",
        "print(raise_val)\n",
        "print(raise_val(2))\n",
        "print(raise_val(2)(4))"
      ],
      "metadata": {
        "colab": {
          "base_uri": "https://localhost:8080/"
        },
        "id": "_b_AM6_Ye_W9",
        "outputId": "fd6db86b-deb3-4424-8bde-9eb34d133e03"
      },
      "execution_count": null,
      "outputs": [
        {
          "output_type": "stream",
          "name": "stdout",
          "text": [
            "4 64\n",
            "<function raise_val at 0x7be17b173880>\n",
            "<function raise_val.<locals>.inner at 0x7be17b1b4160>\n",
            "16\n"
          ]
        }
      ]
    },
    {
      "cell_type": "markdown",
      "source": [
        "## **Using `nonlocal`**\n",
        "\n",
        "- หลักการเหมือน `global`"
      ],
      "metadata": {
        "id": "WYtpOusIijgs"
      }
    },
    {
      "cell_type": "code",
      "source": [
        "def outer():\n",
        "    \"\"\"Prints the value of n.\"\"\"\n",
        "    n = 1\n",
        "\n",
        "    def inner():\n",
        "        #nonlocal n\n",
        "        n = 2\n",
        "        print(n)\n",
        "\n",
        "    inner()\n",
        "    print(n)\n",
        "\n",
        "outer()"
      ],
      "metadata": {
        "colab": {
          "base_uri": "https://localhost:8080/"
        },
        "id": "Rk9hlCHOiotJ",
        "outputId": "06e08f5e-fbcc-43b5-fbd2-5a2757d45234"
      },
      "execution_count": null,
      "outputs": [
        {
          "output_type": "stream",
          "name": "stdout",
          "text": [
            "2\n",
            "1\n"
          ]
        }
      ]
    },
    {
      "cell_type": "code",
      "source": [
        "def outer():\n",
        "    \"\"\"Prints the value of n.\"\"\"\n",
        "    n = 1\n",
        "\n",
        "    def inner():\n",
        "        nonlocal n\n",
        "        n = 2\n",
        "        print(n)\n",
        "\n",
        "    inner()\n",
        "    print(n)\n",
        "\n",
        "outer()"
      ],
      "metadata": {
        "colab": {
          "base_uri": "https://localhost:8080/"
        },
        "id": "HBZOuJPjjc6w",
        "outputId": "78af0fd7-64c3-4d26-a38e-5f3be7e82aec"
      },
      "execution_count": null,
      "outputs": [
        {
          "output_type": "stream",
          "name": "stdout",
          "text": [
            "2\n",
            "2\n"
          ]
        }
      ]
    },
    {
      "cell_type": "markdown",
      "source": [
        "### **Nested Functions I**\n",
        "\n",
        "You've learned in the last video about nesting functions within functions. One reason why you'd like to do this is to avoid writing out the same computations within functions repeatedly. There's nothing new about defining nested functions: you simply define it as you would a regular function with **`def`** and embed it inside another function!\n",
        "\n",
        "In this exercise, inside a function `three_shouts()`, you will define a nested function `inner()` that concatenates a string object with `!!!`. `three_shouts()` then returns a tuple of three elements, each a string concatenated with `!!!` using `inner()`.\n",
        "\n",
        "### **Instructions**\n",
        "\n",
        "- Complete the function header of the nested function with the function name `inner()` and a single parameter `word`.\n",
        "\n",
        "* Complete the return value: each element of the tuple should be a call to `inner()`, passing in the parameters from `three_shouts()` as arguments to each call."
      ],
      "metadata": {
        "id": "Nrp7gDAkkLVB"
      }
    },
    {
      "cell_type": "code",
      "metadata": {
        "colab": {
          "base_uri": "https://localhost:8080/"
        },
        "id": "0ARq1MT0Nxli",
        "outputId": "0a16649c-6732-4e98-db70-067b71ff065b"
      },
      "source": [
        "### Nest Functions\n",
        "# Define three_shouts\n",
        "def three_shouts(word1, word2, word3):\n",
        "    \"\"\"Returns a tuple of strings\n",
        "    concatenated with '!!!'.\"\"\"\n",
        "\n",
        "    # Define inner\n",
        "    def inner(word):\n",
        "        \"\"\"Returns a string concatenated with '!!!'.\"\"\"\n",
        "        return word + '!!!'\n",
        "\n",
        "    # Return a tuple of strings\n",
        "    return (inner(word1), inner(word2), inner(word3))\n",
        "\n",
        "# Call three_shouts() and print\n",
        "print(three_shouts('a', 'b', 'c'))\n",
        "\n"
      ],
      "execution_count": null,
      "outputs": [
        {
          "output_type": "stream",
          "name": "stdout",
          "text": [
            "('a!!!', 'b!!!', 'c!!!')\n"
          ]
        }
      ]
    },
    {
      "cell_type": "markdown",
      "source": [
        "### **Nested Functions II**\n",
        "\n",
        "One other pretty cool reason for nesting functions is the idea of a <u>closure</u>. This means that the nested or inner function remembers the state of its enclosing scope when called. Thus, anything defined locally in the enclosing scope is available to the inner function even when the outer function has finished execution.\n",
        "\n",
        "Complete the definition of the inner function `inner_echo()` and then call `echo()` a couple of times, each with a different argument.\n",
        "\n",
        "### **Instructions**\n",
        "\n",
        "- Complete the function header of the inner function with the function name `inner_echo()` and a single parameter `word1`.\n",
        "\n",
        "- Complete the function `echo()` so that it returns `inner_echo`.\n",
        "\n",
        "- We have called `echo()`, passing 2 as an argument, and assigned the resulting function to `twice`. Call `echo()`, passing `3` as an argument. Assign the resulting function to `thrice`.\n",
        "\n",
        "- Call `twice()` and `thrice()` and print the results."
      ],
      "metadata": {
        "id": "wF2JECd9lWLP"
      }
    },
    {
      "cell_type": "code",
      "source": [
        "# Define echo\n",
        "def echo(n):\n",
        "    \"\"\"Return the inner_echo function.\"\"\"\n",
        "\n",
        "    # Define inner_echo\n",
        "    def inner_echo(word1):\n",
        "        \"\"\"Concatenate n copies of word1.\"\"\"\n",
        "        echo_word = word1 * n\n",
        "        return echo_word\n",
        "\n",
        "    # Return inner_echo\n",
        "    return inner_echo\n",
        "\n",
        "\n",
        "# Call echo: twice\n",
        "twice = echo(2)\n",
        "\n",
        "# Call echo: thrice\n",
        "thrice = echo(3)\n",
        "\n",
        "# Call twice() and thrice() then print\n",
        "print(twice('hello'), thrice('hello'))"
      ],
      "metadata": {
        "colab": {
          "base_uri": "https://localhost:8080/"
        },
        "id": "jzS17Mu_lXPz",
        "outputId": "ce4e346e-e33a-4b1e-d8d5-5e0e1851becd"
      },
      "execution_count": null,
      "outputs": [
        {
          "output_type": "stream",
          "name": "stdout",
          "text": [
            "hellohello hellohellohello\n"
          ]
        }
      ]
    },
    {
      "cell_type": "markdown",
      "source": [
        "### **The keyword <u>nonlocal</u> and nested functions**\n",
        "Use the keyword **`nonlocal`** within a nested function to alter the value of a variable defined in the enclosing scope.\n",
        "\n",
        "### **Instructions**\n",
        "\n",
        "- Assign to `echo_word` the string `word`, concatenated with itself.\n",
        "\n",
        "- Use the keyword **`nonlocal`** to alter the value of `echo_word` in the enclosing scope.\n",
        "\n",
        "- Alter `echo_word` to `echo_word` concatenated with `'!!!'`.\n",
        "\n",
        "- Call the function `echo_shout()`, passing it a single argument `'hello'`."
      ],
      "metadata": {
        "id": "Cz__vhsIm6nw"
      }
    },
    {
      "cell_type": "code",
      "source": [
        "# Define echo_shout()\n",
        "def echo_shout(word):\n",
        "    \"\"\"Change the value of a nonlocal variable\"\"\"\n",
        "\n",
        "    # Concatenate word with itself: echo_word\n",
        "    echo_word = word + word\n",
        "\n",
        "    # Print echo_word\n",
        "    print(echo_word)\n",
        "\n",
        "    # Define inner function shout()\n",
        "    def shout():\n",
        "        \"\"\"Alter a variable in the enclosing scope\"\"\"\n",
        "        # Use echo_word in nonlocal scope\n",
        "        nonlocal echo_word\n",
        "\n",
        "        # Change echo_word to echo_word concatenated with '!!!'\n",
        "        echo_word = echo_word + \"!!!\"\n",
        "\n",
        "    # Call function shout()\n",
        "    shout()\n",
        "\n",
        "    # Print echo_word\n",
        "    print(echo_word)\n",
        "\n",
        "# Call function echo_shout() with argument 'hello'\n",
        "echo_shout(\"hello\")"
      ],
      "metadata": {
        "colab": {
          "base_uri": "https://localhost:8080/"
        },
        "id": "baJSB4DNm7Hh",
        "outputId": "c0641c51-c864-4fdf-d320-a609b88faaf0"
      },
      "execution_count": null,
      "outputs": [
        {
          "output_type": "stream",
          "name": "stdout",
          "text": [
            "hellohello\n",
            "hellohello!!!\n"
          ]
        }
      ]
    },
    {
      "cell_type": "markdown",
      "source": [
        "# **Default and Flexible Arguments**\n",
        "\n",
        "## **Adding default arguments**"
      ],
      "metadata": {
        "id": "7Um6CiZ8yA7E"
      }
    },
    {
      "cell_type": "code",
      "source": [
        "def power(number, pow=1):\n",
        "    \"\"\"Raise number to the power of pow.\"\"\"\n",
        "    new_value = number ** pow\n",
        "    return new_value\n",
        "\n",
        "print(power(9, 2))\n",
        "print(power(9))"
      ],
      "metadata": {
        "colab": {
          "base_uri": "https://localhost:8080/"
        },
        "id": "g9A3upYGyhAk",
        "outputId": "10462b1d-2410-403a-cdd7-6b91d43f6bd9"
      },
      "execution_count": null,
      "outputs": [
        {
          "output_type": "stream",
          "name": "stdout",
          "text": [
            "81\n",
            "9\n"
          ]
        }
      ]
    },
    {
      "cell_type": "markdown",
      "source": [
        "## **Flexible Arguments: `*args`**\n",
        "\n",
        "Use when we are not sure how many arguments a user will want to pass"
      ],
      "metadata": {
        "id": "_fzl87JnyqpS"
      }
    },
    {
      "cell_type": "code",
      "source": [
        "def add_all(*args):\n",
        "    \"\"\"Sum all values in *args together.\"\"\"\n",
        "\n",
        "    # Initialize sum\n",
        "    sum_all = 0\n",
        "\n",
        "    # Accumulate the sum\n",
        "    for num in args:\n",
        "        sum_all += num\n",
        "\n",
        "    return sum_all\n",
        "\n",
        "print(add_all(2))\n",
        "print(add_all(1, 2))\n",
        "print(add_all(1, 2, 3, 4))"
      ],
      "metadata": {
        "colab": {
          "base_uri": "https://localhost:8080/"
        },
        "id": "IebldIn2zCfp",
        "outputId": "e28a479c-9e9f-4948-eeb1-7185ffd35d70"
      },
      "execution_count": null,
      "outputs": [
        {
          "output_type": "stream",
          "name": "stdout",
          "text": [
            "2\n",
            "3\n",
            "10\n"
          ]
        }
      ]
    },
    {
      "cell_type": "markdown",
      "source": [
        "## Flexible arguments: `**kwargs`\n",
        "\n",
        "- `**kwargs` turns the keyword pairs into a dictionary in a function."
      ],
      "metadata": {
        "id": "fHOX071Kz2HR"
      }
    },
    {
      "cell_type": "code",
      "source": [
        "def func(**kwargs):\n",
        "    print(kwargs)\n",
        "\n",
        "func(name=\"dumbledore\", job=\"headmaster\")"
      ],
      "metadata": {
        "colab": {
          "base_uri": "https://localhost:8080/"
        },
        "id": "K8y8H5kZ1YMp",
        "outputId": "79bff832-e691-4530-8066-312b4223697a"
      },
      "execution_count": null,
      "outputs": [
        {
          "output_type": "stream",
          "name": "stdout",
          "text": [
            "{'name': 'dumbledore', 'job': 'headmaster'}\n"
          ]
        }
      ]
    },
    {
      "cell_type": "code",
      "source": [
        "def print_all(**kwargs):\n",
        "    \"\"\"Print out key-value pairs in **kwargs.\"\"\"\n",
        "\n",
        "    # Print out the key-value pairs\n",
        "    for key, value in kwargs.items():\n",
        "        print(key + \": \" + value)\n",
        "\n",
        "print_all(name=\"dumbledore\", job=\"headmaster\")"
      ],
      "metadata": {
        "colab": {
          "base_uri": "https://localhost:8080/"
        },
        "id": "U5LQnPFn0JGQ",
        "outputId": "0128b821-ea3c-43b5-839a-5da3644a6551"
      },
      "execution_count": null,
      "outputs": [
        {
          "output_type": "stream",
          "name": "stdout",
          "text": [
            "name: dumbledore\n",
            "job: headmaster\n"
          ]
        }
      ]
    },
    {
      "cell_type": "markdown",
      "source": [
        "### **Functions with one default argument**\n",
        "\n",
        "Write a function that uses a default argument and then calling the function a couple of times.\n",
        "\n",
        "### **Instructions**\n",
        "\n",
        "- Complete the function header with the function name `shout_echo`. It accepts an argument `word1` and a default argument `echo` with default value `1`, in that order.\n",
        "\n",
        "- Use the `*` operator to concatenate `echo` copies of `word1`. Assign the result to `echo_word`.\n",
        "\n",
        "- Call `shout_echo()` with just the string, `\"Hey\"`. Assign the result to `no_echo`.\n",
        "\n",
        "- Call `shout_echo()` with the string `\"Hey\"` and the value `5` for the default argument, `echo`. Assign the result to `with_echo`."
      ],
      "metadata": {
        "id": "It9t_9td1oF4"
      }
    },
    {
      "cell_type": "code",
      "metadata": {
        "colab": {
          "base_uri": "https://localhost:8080/"
        },
        "id": "kOJShSkok6Hb",
        "outputId": "200cd481-0c3b-4501-86db-48330ce019a8"
      },
      "source": [
        "### Default Arguments\n",
        "# Define shout_echo\n",
        "def shout_echo(word1, echo=1):\n",
        "    \"\"\"Concatenate echo copies of word1 and three\n",
        "     exclamation marks at the end of the string.\"\"\"\n",
        "\n",
        "    # Concatenate echo copies of word1 using *: echo_word\n",
        "    echo_word = word1*echo\n",
        "    # Concatenate '!!!' to echo_word: shout_word\n",
        "    shout_word = echo_word + '!!!'\n",
        "\n",
        "    # Return shout_word\n",
        "    return shout_word\n",
        "\n",
        "# Call shout_echo() with \"Hey\": no_echo\n",
        "no_echo = shout_echo(\"Hey\")\n",
        "\n",
        "# Call shout_echo() with \"Hey\" and echo=5: with_echo\n",
        "with_echo = shout_echo(\"Hey\", 5)\n",
        "\n",
        "# Print no_echo and with_echo\n",
        "print(no_echo)\n",
        "print(with_echo)\n",
        "\n"
      ],
      "execution_count": null,
      "outputs": [
        {
          "output_type": "stream",
          "name": "stdout",
          "text": [
            "Hey!!!\n",
            "HeyHeyHeyHeyHey!!!\n"
          ]
        }
      ]
    },
    {
      "cell_type": "markdown",
      "source": [
        "### **Functions with multiple default arguments**\n",
        "\n",
        "Define a function with more than one default argument and then calling this function in various ways. After defining the function, you will call it by supplying values to all the default arguments of the function. Additionally, you will call the function by not passing a value to one of the default arguments - see how that changes the output of your function!\n",
        "\n",
        "### **Instructions**\n",
        "\n",
        "- Complete the function header with the function name `shout_echo`. It accepts an argument `word1`, a default argument `echo` with default value `1` and a default argument `intense` with default value `False`, in that order.\n",
        "\n",
        "- In the body of the **`if`** statement, make the string object `echo_word` upper case by applying the method **`.upper()`** on it.\n",
        "\n",
        "- Call `shout_echo()` with the string, `\"Hey\"`, the value `5` for `echo` and the value `True` for `intense`. Assign the result to `with_big_echo`.\n",
        "\n",
        "- Call `shout_echo()` with the string `\"Hey\"` and the value `True` for `intense`. Assign the result to `big_no_echo`."
      ],
      "metadata": {
        "id": "mE5uHLUo2z-M"
      }
    },
    {
      "cell_type": "code",
      "source": [
        "# Define shout_echo\n",
        "def shout_echo(word1, echo=1, intense=False):\n",
        "    \"\"\"Concatenate echo copies of word1 and three\n",
        "    exclamation marks at the end of the string.\"\"\"\n",
        "\n",
        "    # Concatenate echo copies of word1 using *: echo_word\n",
        "    echo_word = word1 * echo\n",
        "\n",
        "    # Make echo_word uppercase if intense is True\n",
        "    if intense is True:\n",
        "        # Make uppercase and concatenate '!!!': echo_word_new\n",
        "        echo_word_new = echo_word.upper() + '!!!'\n",
        "    else:\n",
        "        # Concatenate '!!!' to echo_word: echo_word_new\n",
        "        echo_word_new = echo_word + '!!!'\n",
        "\n",
        "    # Return echo_word_new\n",
        "    return echo_word_new\n",
        "\n",
        "# Call shout_echo() with \"Hey\", echo=5 and intense=True: with_big_echo\n",
        "with_big_echo = shout_echo(\"Hey\", 5, True)\n",
        "\n",
        "# Call shout_echo() with \"Hey\" and intense=True: big_no_echo\n",
        "big_no_echo = shout_echo(\"Hey\", intense=True)\n",
        "\n",
        "# Print values\n",
        "print(with_big_echo)\n",
        "print(big_no_echo)"
      ],
      "metadata": {
        "colab": {
          "base_uri": "https://localhost:8080/"
        },
        "id": "cSb4WMHg20ae",
        "outputId": "b68cc28f-ed7d-4293-9e08-7686359c5290"
      },
      "execution_count": null,
      "outputs": [
        {
          "output_type": "stream",
          "name": "stdout",
          "text": [
            "HEYHEYHEYHEYHEY!!!\n",
            "HEY!!!\n"
          ]
        }
      ]
    },
    {
      "cell_type": "markdown",
      "source": [
        "### **Functions with variable-length arguments (*args)**\n",
        "\n",
        "Flexible arguments enable you to pass a variable number of arguments to a function. In this exercise, you will practice defining a function that accepts <u>a variable number of string arguments</u>.\n",
        "\n",
        "The function you will define is `gibberish()` which can accept a variable number of string values. Its return value is a single string composed of all the string arguments concatenated together in the order they were passed to the function call. You will call the function with a single string argument and see how the output changes with another call using more than one string argument. Recall that, within the function definition, `args` is a tuple.\n",
        "\n",
        "### **Instructions**\n",
        "\n",
        "- Complete the function header with the function name `gibberish`. It accepts a single flexible argument `*args`.\n",
        "\n",
        "- Initialize a variable `hodgepodge` to an empty string.\n",
        "\n",
        "- Return the variable `hodgepodge` at the end of the function body.\n",
        "\n",
        "- Call `gibberish()` with the single string, `\"luke\"`. Assign the result to `one_word`.\n",
        "\n",
        "- Call `gibberish()` with multiple arguments and to print the value."
      ],
      "metadata": {
        "id": "bFWMzeN04S7c"
      }
    },
    {
      "cell_type": "code",
      "metadata": {
        "colab": {
          "base_uri": "https://localhost:8080/"
        },
        "id": "i37Oh53qxbVA",
        "outputId": "bf53e70a-4cc7-4f1e-9c94-4a70c2472d3e"
      },
      "source": [
        "### *ARGS\n",
        "# Define gibberish\n",
        "def gibberish(*args):\n",
        "    \"\"\"Concatenate strings in *args together.\"\"\"\n",
        "\n",
        "    # Initialize an empty string: hodgepodge\n",
        "    hodgepodge = \"\"\n",
        "\n",
        "    # Concatenate the strings in args\n",
        "    for word in args:\n",
        "        hodgepodge += word\n",
        "\n",
        "    # Return hodgepodge\n",
        "    return hodgepodge\n",
        "\n",
        "# Call gibberish() with one string: one_word\n",
        "one_word = gibberish(\"luke\")\n",
        "\n",
        "# Call gibberish() with five strings: many_words\n",
        "many_words = gibberish(\"luke\", \"leia\", \"han\", \"obi\", \"darth\")\n",
        "\n",
        "# Print one_word and many_words\n",
        "print(one_word)\n",
        "print(many_words)"
      ],
      "execution_count": null,
      "outputs": [
        {
          "output_type": "stream",
          "text": [
            "luke\n",
            "lukeleiahanobidarth\n"
          ],
          "name": "stdout"
        }
      ]
    },
    {
      "cell_type": "markdown",
      "source": [
        "### Functions with variable-length keyword arguments (**kwargs)\n",
        "\n",
        "You're now going to use `**kwargs`. What makes `**kwargs` different is that it allows you to pass a variable number of keyword arguments to functions. Recall that, within the function definition, **`kwargs` is a dictionary.\n",
        "\n",
        "To understand this idea better, you're going to use `**kwargs` in this exercise to define a function that accepts a variable number of keyword arguments. The function simulates a simple status report system that prints out the status of a character in a movie.\n",
        "\n",
        "### **Instructions**\n",
        "\n",
        "- Complete the function header with the function name `report_status`. It accepts a single flexible argument `**kwargs`.\n",
        "\n",
        "- Iterate over the key-value pairs of `kwargs` to print out the keys and values, separated by a colon `':'`.\n",
        "\n",
        "- In the first call to `report_status()`, pass the following keyword-value pairs: `name=\"luke\"`, `affiliation=\"jedi\"` and `status=\"missing\"`.\n",
        "\n",
        "- In the second call to `report_status()`, pass the following keyword-value pairs: `name=\"anakin\"`, `affiliation=\"sith lord\"` and `status=\"deceased\"`."
      ],
      "metadata": {
        "id": "51bwdYzP5rnx"
      }
    },
    {
      "cell_type": "code",
      "metadata": {
        "colab": {
          "base_uri": "https://localhost:8080/"
        },
        "id": "tmI7eqHMyG78",
        "outputId": "fa99af8c-06aa-4e5e-bb95-e80e85ed76b0"
      },
      "source": [
        "### **KWARGS\n",
        "# Define report_status\n",
        "def report_status(**kwargs):\n",
        "    \"\"\"Print out the status of a movie character.\"\"\"\n",
        "\n",
        "    print(\"\\nBEGIN: REPORT\\n\")\n",
        "\n",
        "    # Iterate over the key-value pairs of kwargs\n",
        "    for key, value in kwargs.items():\n",
        "        # Print out the keys and values, separated by a colon ':'\n",
        "        print(key + \": \" + value)\n",
        "\n",
        "    print(\"\\nEND REPORT\")\n",
        "\n",
        "# First call to report_status()\n",
        "report_status(name=\"luke\", affiliation=\"jedi\", status=\"missing\")\n",
        "\n",
        "# Second call to report_status()\n",
        "report_status(name=\"anakin\", affiliation=\"sith lord\", status=\"deceased\")"
      ],
      "execution_count": null,
      "outputs": [
        {
          "output_type": "stream",
          "text": [
            "\n",
            "BEGIN: REPORT\n",
            "\n",
            "name: luke\n",
            "affiliation: jedi\n",
            "status: missing\n",
            "\n",
            "END REPORT\n",
            "\n",
            "BEGIN: REPORT\n",
            "\n",
            "name: anakin\n",
            "affiliation: sith lord\n",
            "status: deceased\n",
            "\n",
            "END REPORT\n"
          ],
          "name": "stdout"
        }
      ]
    },
    {
      "cell_type": "markdown",
      "source": [
        "### **Generalize the Twitter language analysis**\n",
        "\n",
        "You will do that by including <u>a default argument</u> that takes a column name.\n",
        "\n",
        "`pandas` has been imported as `pd` and the `'tweets.csv'` file has been imported into the DataFrame `tweets_df`.\n",
        "\n",
        "### **Instructions**\n",
        "\n",
        "\n",
        "- Complete the function header by supplying the parameter for a DataFrame `df` and the parameter `col_name` with a default value of `'lang'` for the DataFrame column name.\n",
        "\n",
        "- Call `count_entries()` by passing the `tweets_df` DataFrame and the column name `'lang'`. Assign the result to `result1`.\n",
        "Note that since `'lang'` is the default value of the `col_name` parameter, you don't have to specify it here.\n",
        "\n",
        "- Call `count_entries()` by passing the `tweets_df` DataFrame and the column name `'source'`. Assign the result to `result2`."
      ],
      "metadata": {
        "id": "aekSYFriJFzM"
      }
    },
    {
      "cell_type": "code",
      "metadata": {
        "colab": {
          "base_uri": "https://localhost:8080/",
          "height": 317
        },
        "id": "cBXOeQeey5ie",
        "outputId": "b8dcce9f-3ca7-4c10-ba0a-d42071df0ab7"
      },
      "source": [
        "import pandas as pd\n",
        "tweets_df = pd.read_csv(\"tweets.csv\")\n",
        "\n",
        "display(tweets_df[['lang', 'source']].head())\n",
        "print(\"\\n\\n\")\n",
        "\n",
        "# Define count_entries()\n",
        "def count_entries(df, col_name=\"lang\"):\n",
        "    \"\"\"Return a dictionary with counts of\n",
        "    occurrences as value for each key.\"\"\"\n",
        "\n",
        "    # Initialize an empty dictionary: cols_count\n",
        "    cols_count = {}\n",
        "\n",
        "    # Extract column from DataFrame: col\n",
        "    col = df[col_name]\n",
        "\n",
        "    # Iterate over the column in DataFrame\n",
        "    for entry in col:\n",
        "\n",
        "        # If entry is in cols_count, add 1\n",
        "        if entry in cols_count.keys():\n",
        "            cols_count[entry] += 1\n",
        "\n",
        "        # Else add the entry to cols_count, set the value to 1\n",
        "        else:\n",
        "            cols_count[entry] = 1\n",
        "\n",
        "    # Return the cols_count dictionary\n",
        "    return cols_count\n",
        "\n",
        "# Call count_entries(): result1\n",
        "result1 = count_entries(tweets_df)\n",
        "\n",
        "# Call count_entries(): result2\n",
        "result2 = count_entries(tweets_df, \"source\")\n",
        "\n",
        "# Print result1 and result2\n",
        "print(result1)\n",
        "print(result2)\n",
        "\n"
      ],
      "execution_count": null,
      "outputs": [
        {
          "output_type": "display_data",
          "data": {
            "text/plain": [
              "  lang                                             source\n",
              "0   en  <a href=\"http://twitter.com\" rel=\"nofollow\">Tw...\n",
              "1   en  <a href=\"http://twitter.com\" rel=\"nofollow\">Tw...\n",
              "2   et  <a href=\"http://www.facebook.com/twitter\" rel=...\n",
              "3   en  <a href=\"http://twitter.com/download/android\" ...\n",
              "4   en  <a href=\"http://twitter.com/download/iphone\" r..."
            ],
            "text/html": [
              "\n",
              "  <div id=\"df-ec506f97-a4b3-42a9-9cc3-b4a4b09cb937\" class=\"colab-df-container\">\n",
              "    <div>\n",
              "<style scoped>\n",
              "    .dataframe tbody tr th:only-of-type {\n",
              "        vertical-align: middle;\n",
              "    }\n",
              "\n",
              "    .dataframe tbody tr th {\n",
              "        vertical-align: top;\n",
              "    }\n",
              "\n",
              "    .dataframe thead th {\n",
              "        text-align: right;\n",
              "    }\n",
              "</style>\n",
              "<table border=\"1\" class=\"dataframe\">\n",
              "  <thead>\n",
              "    <tr style=\"text-align: right;\">\n",
              "      <th></th>\n",
              "      <th>lang</th>\n",
              "      <th>source</th>\n",
              "    </tr>\n",
              "  </thead>\n",
              "  <tbody>\n",
              "    <tr>\n",
              "      <th>0</th>\n",
              "      <td>en</td>\n",
              "      <td>&lt;a href=\"http://twitter.com\" rel=\"nofollow\"&gt;Tw...</td>\n",
              "    </tr>\n",
              "    <tr>\n",
              "      <th>1</th>\n",
              "      <td>en</td>\n",
              "      <td>&lt;a href=\"http://twitter.com\" rel=\"nofollow\"&gt;Tw...</td>\n",
              "    </tr>\n",
              "    <tr>\n",
              "      <th>2</th>\n",
              "      <td>et</td>\n",
              "      <td>&lt;a href=\"http://www.facebook.com/twitter\" rel=...</td>\n",
              "    </tr>\n",
              "    <tr>\n",
              "      <th>3</th>\n",
              "      <td>en</td>\n",
              "      <td>&lt;a href=\"http://twitter.com/download/android\" ...</td>\n",
              "    </tr>\n",
              "    <tr>\n",
              "      <th>4</th>\n",
              "      <td>en</td>\n",
              "      <td>&lt;a href=\"http://twitter.com/download/iphone\" r...</td>\n",
              "    </tr>\n",
              "  </tbody>\n",
              "</table>\n",
              "</div>\n",
              "    <div class=\"colab-df-buttons\">\n",
              "\n",
              "  <div class=\"colab-df-container\">\n",
              "    <button class=\"colab-df-convert\" onclick=\"convertToInteractive('df-ec506f97-a4b3-42a9-9cc3-b4a4b09cb937')\"\n",
              "            title=\"Convert this dataframe to an interactive table.\"\n",
              "            style=\"display:none;\">\n",
              "\n",
              "  <svg xmlns=\"http://www.w3.org/2000/svg\" height=\"24px\" viewBox=\"0 -960 960 960\">\n",
              "    <path d=\"M120-120v-720h720v720H120Zm60-500h600v-160H180v160Zm220 220h160v-160H400v160Zm0 220h160v-160H400v160ZM180-400h160v-160H180v160Zm440 0h160v-160H620v160ZM180-180h160v-160H180v160Zm440 0h160v-160H620v160Z\"/>\n",
              "  </svg>\n",
              "    </button>\n",
              "\n",
              "  <style>\n",
              "    .colab-df-container {\n",
              "      display:flex;\n",
              "      gap: 12px;\n",
              "    }\n",
              "\n",
              "    .colab-df-convert {\n",
              "      background-color: #E8F0FE;\n",
              "      border: none;\n",
              "      border-radius: 50%;\n",
              "      cursor: pointer;\n",
              "      display: none;\n",
              "      fill: #1967D2;\n",
              "      height: 32px;\n",
              "      padding: 0 0 0 0;\n",
              "      width: 32px;\n",
              "    }\n",
              "\n",
              "    .colab-df-convert:hover {\n",
              "      background-color: #E2EBFA;\n",
              "      box-shadow: 0px 1px 2px rgba(60, 64, 67, 0.3), 0px 1px 3px 1px rgba(60, 64, 67, 0.15);\n",
              "      fill: #174EA6;\n",
              "    }\n",
              "\n",
              "    .colab-df-buttons div {\n",
              "      margin-bottom: 4px;\n",
              "    }\n",
              "\n",
              "    [theme=dark] .colab-df-convert {\n",
              "      background-color: #3B4455;\n",
              "      fill: #D2E3FC;\n",
              "    }\n",
              "\n",
              "    [theme=dark] .colab-df-convert:hover {\n",
              "      background-color: #434B5C;\n",
              "      box-shadow: 0px 1px 3px 1px rgba(0, 0, 0, 0.15);\n",
              "      filter: drop-shadow(0px 1px 2px rgba(0, 0, 0, 0.3));\n",
              "      fill: #FFFFFF;\n",
              "    }\n",
              "  </style>\n",
              "\n",
              "    <script>\n",
              "      const buttonEl =\n",
              "        document.querySelector('#df-ec506f97-a4b3-42a9-9cc3-b4a4b09cb937 button.colab-df-convert');\n",
              "      buttonEl.style.display =\n",
              "        google.colab.kernel.accessAllowed ? 'block' : 'none';\n",
              "\n",
              "      async function convertToInteractive(key) {\n",
              "        const element = document.querySelector('#df-ec506f97-a4b3-42a9-9cc3-b4a4b09cb937');\n",
              "        const dataTable =\n",
              "          await google.colab.kernel.invokeFunction('convertToInteractive',\n",
              "                                                    [key], {});\n",
              "        if (!dataTable) return;\n",
              "\n",
              "        const docLinkHtml = 'Like what you see? Visit the ' +\n",
              "          '<a target=\"_blank\" href=https://colab.research.google.com/notebooks/data_table.ipynb>data table notebook</a>'\n",
              "          + ' to learn more about interactive tables.';\n",
              "        element.innerHTML = '';\n",
              "        dataTable['output_type'] = 'display_data';\n",
              "        await google.colab.output.renderOutput(dataTable, element);\n",
              "        const docLink = document.createElement('div');\n",
              "        docLink.innerHTML = docLinkHtml;\n",
              "        element.appendChild(docLink);\n",
              "      }\n",
              "    </script>\n",
              "  </div>\n",
              "\n",
              "\n",
              "<div id=\"df-f2d928c6-d137-4537-b777-421b940ae944\">\n",
              "  <button class=\"colab-df-quickchart\" onclick=\"quickchart('df-f2d928c6-d137-4537-b777-421b940ae944')\"\n",
              "            title=\"Suggest charts\"\n",
              "            style=\"display:none;\">\n",
              "\n",
              "<svg xmlns=\"http://www.w3.org/2000/svg\" height=\"24px\"viewBox=\"0 0 24 24\"\n",
              "     width=\"24px\">\n",
              "    <g>\n",
              "        <path d=\"M19 3H5c-1.1 0-2 .9-2 2v14c0 1.1.9 2 2 2h14c1.1 0 2-.9 2-2V5c0-1.1-.9-2-2-2zM9 17H7v-7h2v7zm4 0h-2V7h2v10zm4 0h-2v-4h2v4z\"/>\n",
              "    </g>\n",
              "</svg>\n",
              "  </button>\n",
              "\n",
              "<style>\n",
              "  .colab-df-quickchart {\n",
              "      --bg-color: #E8F0FE;\n",
              "      --fill-color: #1967D2;\n",
              "      --hover-bg-color: #E2EBFA;\n",
              "      --hover-fill-color: #174EA6;\n",
              "      --disabled-fill-color: #AAA;\n",
              "      --disabled-bg-color: #DDD;\n",
              "  }\n",
              "\n",
              "  [theme=dark] .colab-df-quickchart {\n",
              "      --bg-color: #3B4455;\n",
              "      --fill-color: #D2E3FC;\n",
              "      --hover-bg-color: #434B5C;\n",
              "      --hover-fill-color: #FFFFFF;\n",
              "      --disabled-bg-color: #3B4455;\n",
              "      --disabled-fill-color: #666;\n",
              "  }\n",
              "\n",
              "  .colab-df-quickchart {\n",
              "    background-color: var(--bg-color);\n",
              "    border: none;\n",
              "    border-radius: 50%;\n",
              "    cursor: pointer;\n",
              "    display: none;\n",
              "    fill: var(--fill-color);\n",
              "    height: 32px;\n",
              "    padding: 0;\n",
              "    width: 32px;\n",
              "  }\n",
              "\n",
              "  .colab-df-quickchart:hover {\n",
              "    background-color: var(--hover-bg-color);\n",
              "    box-shadow: 0 1px 2px rgba(60, 64, 67, 0.3), 0 1px 3px 1px rgba(60, 64, 67, 0.15);\n",
              "    fill: var(--button-hover-fill-color);\n",
              "  }\n",
              "\n",
              "  .colab-df-quickchart-complete:disabled,\n",
              "  .colab-df-quickchart-complete:disabled:hover {\n",
              "    background-color: var(--disabled-bg-color);\n",
              "    fill: var(--disabled-fill-color);\n",
              "    box-shadow: none;\n",
              "  }\n",
              "\n",
              "  .colab-df-spinner {\n",
              "    border: 2px solid var(--fill-color);\n",
              "    border-color: transparent;\n",
              "    border-bottom-color: var(--fill-color);\n",
              "    animation:\n",
              "      spin 1s steps(1) infinite;\n",
              "  }\n",
              "\n",
              "  @keyframes spin {\n",
              "    0% {\n",
              "      border-color: transparent;\n",
              "      border-bottom-color: var(--fill-color);\n",
              "      border-left-color: var(--fill-color);\n",
              "    }\n",
              "    20% {\n",
              "      border-color: transparent;\n",
              "      border-left-color: var(--fill-color);\n",
              "      border-top-color: var(--fill-color);\n",
              "    }\n",
              "    30% {\n",
              "      border-color: transparent;\n",
              "      border-left-color: var(--fill-color);\n",
              "      border-top-color: var(--fill-color);\n",
              "      border-right-color: var(--fill-color);\n",
              "    }\n",
              "    40% {\n",
              "      border-color: transparent;\n",
              "      border-right-color: var(--fill-color);\n",
              "      border-top-color: var(--fill-color);\n",
              "    }\n",
              "    60% {\n",
              "      border-color: transparent;\n",
              "      border-right-color: var(--fill-color);\n",
              "    }\n",
              "    80% {\n",
              "      border-color: transparent;\n",
              "      border-right-color: var(--fill-color);\n",
              "      border-bottom-color: var(--fill-color);\n",
              "    }\n",
              "    90% {\n",
              "      border-color: transparent;\n",
              "      border-bottom-color: var(--fill-color);\n",
              "    }\n",
              "  }\n",
              "</style>\n",
              "\n",
              "  <script>\n",
              "    async function quickchart(key) {\n",
              "      const quickchartButtonEl =\n",
              "        document.querySelector('#' + key + ' button');\n",
              "      quickchartButtonEl.disabled = true;  // To prevent multiple clicks.\n",
              "      quickchartButtonEl.classList.add('colab-df-spinner');\n",
              "      try {\n",
              "        const charts = await google.colab.kernel.invokeFunction(\n",
              "            'suggestCharts', [key], {});\n",
              "      } catch (error) {\n",
              "        console.error('Error during call to suggestCharts:', error);\n",
              "      }\n",
              "      quickchartButtonEl.classList.remove('colab-df-spinner');\n",
              "      quickchartButtonEl.classList.add('colab-df-quickchart-complete');\n",
              "    }\n",
              "    (() => {\n",
              "      let quickchartButtonEl =\n",
              "        document.querySelector('#df-f2d928c6-d137-4537-b777-421b940ae944 button');\n",
              "      quickchartButtonEl.style.display =\n",
              "        google.colab.kernel.accessAllowed ? 'block' : 'none';\n",
              "    })();\n",
              "  </script>\n",
              "</div>\n",
              "\n",
              "    </div>\n",
              "  </div>\n"
            ],
            "application/vnd.google.colaboratory.intrinsic+json": {
              "type": "dataframe",
              "summary": "{\n  \"name\": \"print(result2)\",\n  \"rows\": 5,\n  \"fields\": [\n    {\n      \"column\": \"lang\",\n      \"properties\": {\n        \"dtype\": \"category\",\n        \"num_unique_values\": 2,\n        \"samples\": [\n          \"et\",\n          \"en\"\n        ],\n        \"semantic_type\": \"\",\n        \"description\": \"\"\n      }\n    },\n    {\n      \"column\": \"source\",\n      \"properties\": {\n        \"dtype\": \"string\",\n        \"num_unique_values\": 4,\n        \"samples\": [\n          \"<a href=\\\"http://www.facebook.com/twitter\\\" rel=\\\"nofollow\\\">Facebook</a>\",\n          \"<a href=\\\"http://twitter.com/download/iphone\\\" rel=\\\"nofollow\\\">Twitter for iPhone</a>\"\n        ],\n        \"semantic_type\": \"\",\n        \"description\": \"\"\n      }\n    }\n  ]\n}"
            }
          },
          "metadata": {}
        },
        {
          "output_type": "stream",
          "name": "stdout",
          "text": [
            "\n",
            "\n",
            "\n",
            "{'en': 97, 'et': 1, 'und': 2}\n",
            "{'<a href=\"http://twitter.com\" rel=\"nofollow\">Twitter Web Client</a>': 24, '<a href=\"http://www.facebook.com/twitter\" rel=\"nofollow\">Facebook</a>': 1, '<a href=\"http://twitter.com/download/android\" rel=\"nofollow\">Twitter for Android</a>': 26, '<a href=\"http://twitter.com/download/iphone\" rel=\"nofollow\">Twitter for iPhone</a>': 33, '<a href=\"http://www.twitter.com\" rel=\"nofollow\">Twitter for BlackBerry</a>': 2, '<a href=\"http://www.google.com/\" rel=\"nofollow\">Google</a>': 2, '<a href=\"http://twitter.com/#!/download/ipad\" rel=\"nofollow\">Twitter for iPad</a>': 6, '<a href=\"http://linkis.com\" rel=\"nofollow\">Linkis.com</a>': 2, '<a href=\"http://rutracker.org/forum/viewforum.php?f=93\" rel=\"nofollow\">newzlasz</a>': 2, '<a href=\"http://ifttt.com\" rel=\"nofollow\">IFTTT</a>': 1, '<a href=\"http://www.myplume.com/\" rel=\"nofollow\">Plume\\xa0for\\xa0Android</a>': 1}\n"
          ]
        }
      ]
    },
    {
      "cell_type": "markdown",
      "source": [
        "### **Generalize the function with a flexible argument**\n",
        "\n",
        "In this case, as many column names as the user would like!\n",
        "\n",
        "### **Instructions**\n",
        "\n",
        "- Complete the function header by supplying the parameter for the DataFrame `df` and the flexible argument **`*args`**.\n",
        "\n",
        "- Complete the `for` loop within the function definition so that the loop occurs over the tuple **`args`**.\n",
        "\n",
        "- Call `count_entries()` by passing the `tweets_df` DataFrame and the column name `'lang'`. Assign the result to `result1`.\n",
        "\n",
        "- Call `count_entries()` by passing the `tweets_df` DataFrame and the column names `'lang'` and `'source'`. Assign the result to `result2`."
      ],
      "metadata": {
        "id": "MAYeuV3UKhPo"
      }
    },
    {
      "cell_type": "code",
      "source": [
        "# Define count_entries()\n",
        "def count_entries(df, *args):\n",
        "    \"\"\"Return a dictionary with counts of\n",
        "    occurrences as value for each key.\"\"\"\n",
        "\n",
        "    #Initialize an empty dictionary: cols_count\n",
        "    cols_count = {}\n",
        "\n",
        "    # Iterate over column names in args\n",
        "    for col_name in args:\n",
        "\n",
        "        # Extract column from DataFrame: col\n",
        "        col = df[col_name]\n",
        "\n",
        "        # Iterate over the column in DataFrame\n",
        "        for entry in col:\n",
        "\n",
        "            # If entry is in cols_count, add 1\n",
        "            if entry in cols_count.keys():\n",
        "                cols_count[entry] += 1\n",
        "\n",
        "            # Else add the entry to cols_count, set the value to 1\n",
        "            else:\n",
        "                cols_count[entry] = 1\n",
        "\n",
        "    # Return the cols_count dictionary\n",
        "    return cols_count\n",
        "\n",
        "# Call count_entries(): result1\n",
        "result1 = count_entries(tweets_df, \"lang\")\n",
        "\n",
        "# Call count_entries(): result2\n",
        "result2 = count_entries(tweets_df, \"lang\", \"source\")\n",
        "\n",
        "# Print result1 and result2\n",
        "print(result1)\n",
        "print(result2)"
      ],
      "metadata": {
        "id": "fGHWuWwBKhtA"
      },
      "execution_count": null,
      "outputs": []
    },
    {
      "cell_type": "markdown",
      "source": [
        "# **Lambda Functions**\n",
        "\n",
        "- **`lambda`**\n",
        "- arguments\n",
        "- **`:`**\n",
        "- value to return\n"
      ],
      "metadata": {
        "id": "G-XSqZ3IRn-Z"
      }
    },
    {
      "cell_type": "code",
      "source": [
        "raise_to_power = lambda x, y: x ** y\n",
        "\n",
        "raise_to_power(2, 3)"
      ],
      "metadata": {
        "colab": {
          "base_uri": "https://localhost:8080/"
        },
        "id": "CcMr0uaFSFfG",
        "outputId": "4596f42d-05a5-4e10-b67d-99c806fabb13"
      },
      "execution_count": null,
      "outputs": [
        {
          "output_type": "execute_result",
          "data": {
            "text/plain": [
              "8"
            ]
          },
          "metadata": {},
          "execution_count": 22
        }
      ]
    },
    {
      "cell_type": "markdown",
      "source": [
        "## **`map()`**\n",
        "\n",
        "- Functions `map` takes 2 arguments: `map(func, sequence)`\n",
        "- Apply `func` to all elements in `sequence`"
      ],
      "metadata": {
        "id": "YOYcYrZ_SZBY"
      }
    },
    {
      "cell_type": "code",
      "source": [
        "nums = [1, 2, 3, 4, 5]\n",
        "square_all = map(lambda num: num ** 2, nums)\n",
        "\n",
        "print(square_all, \"\\n\")\n",
        "print(list(square_all))"
      ],
      "metadata": {
        "colab": {
          "base_uri": "https://localhost:8080/"
        },
        "id": "06HUHO-cTBJn",
        "outputId": "9142ee4e-cc1f-4f2e-9e64-c727c1e496d5"
      },
      "execution_count": null,
      "outputs": [
        {
          "output_type": "stream",
          "name": "stdout",
          "text": [
            "<map object at 0x7f2d5ac37400> \n",
            "\n",
            "[1, 4, 9, 16, 25]\n"
          ]
        }
      ]
    },
    {
      "cell_type": "markdown",
      "source": [
        "### **Writing lambda functions**\n",
        "\n",
        "Practice writing a simple lambda function and calling this function. Recall what you know about lambda functions and answer the following questions:\n",
        "\n",
        "- How would you write a lambda function `add_bangs` that adds three exclamation points `'!!!'` to the end of a string `a`?\n",
        "\n",
        "- How would you call `add_bangs` with the argument `'hello'`?"
      ],
      "metadata": {
        "id": "bRu2vzJKTYyB"
      }
    },
    {
      "cell_type": "code",
      "source": [
        "add_bangs = lambda a: a + \"!!!\"\n",
        "add_bangs(\"hello\")"
      ],
      "metadata": {
        "colab": {
          "base_uri": "https://localhost:8080/",
          "height": 36
        },
        "id": "j1Ljd8JRTtFx",
        "outputId": "a18755fd-f5a3-4f5c-b59d-60aed817dff2"
      },
      "execution_count": null,
      "outputs": [
        {
          "output_type": "execute_result",
          "data": {
            "text/plain": [
              "'hello!!!'"
            ],
            "application/vnd.google.colaboratory.intrinsic+json": {
              "type": "string"
            }
          },
          "metadata": {},
          "execution_count": 29
        }
      ]
    },
    {
      "cell_type": "markdown",
      "source": [
        "### **Writing a lambda function you already know**\n",
        "\n",
        "Some function definitions are simple enough that they can be converted into a lambda function. By doing this, you write less lines of code, which is pretty awesome and will come in handy, especially when you're writing and maintaining big programs. In this exercise, you will use what you know about lambda functions to convert a function that does a simple task into a lambda function. Take a look at this function definition:\n",
        "\n",
        "```\n",
        "def echo_word(word1, echo):\n",
        "    \"\"\"Concatenate echo copies of word1.\"\"\"\n",
        "    words = word1 * echo\n",
        "    return words\n",
        "```\n",
        "\n",
        "The function `echo_word` takes 2 parameters: a string value, `word1` and an integer value, `echo`. It returns a string that is a concatenation of `echo` copies of `word1`. Your task is to convert this simple function into a lambda function.\n",
        "\n",
        "### **Instructions**\n",
        "\n",
        "- Define the lambda function `echo_word` using the variables `word1` and `echo`. Replicate what the original function definition for `echo_word()` does above.\n",
        "\n",
        "- Call `echo_word()` with the string argument `'hey'` and the value `5`, in that order. Assign the call to `result`."
      ],
      "metadata": {
        "id": "gDk_EejMUJy6"
      }
    },
    {
      "cell_type": "code",
      "metadata": {
        "colab": {
          "base_uri": "https://localhost:8080/"
        },
        "id": "KTe80nVqp5YC",
        "outputId": "cec45f83-3eff-4f4f-d66f-d53a9c2177db"
      },
      "source": [
        "# Define echo_word as a lambda function: echo_word\n",
        "echo_word = lambda word1, echo: word1 * echo\n",
        "\n",
        "# Call echo_word: result\n",
        "result = echo_word(\"hey\", 5)\n",
        "\n",
        "# Print result\n",
        "print(result)"
      ],
      "execution_count": null,
      "outputs": [
        {
          "output_type": "stream",
          "name": "stdout",
          "text": [
            "heyheyheyheyhey\n"
          ]
        }
      ]
    },
    {
      "cell_type": "markdown",
      "source": [
        "### **Map() and lambda functions**\n",
        "\n",
        "The best use case for lambda functions are for when you want these simple functionalities to be anonymously embedded within larger expressions. What that means is that the functionality is not stored in the environment, unlike a function defined with `def`. To understand this idea better, you will use a lambda function in the context of the `map()` function.\n",
        "\n",
        "Recall that **`map()`** applies a function over an object, such as a list. Here, you can use lambda functions to define the function that **`map()`** will use to process the object. For example:\n",
        "\n",
        "```\n",
        "nums = [2, 4, 6, 8, 10]\n",
        "\n",
        "result = map(lambda a: a ** 2, nums)\n",
        "```\n",
        "\n",
        "You can see here that a lambda function, which raises a value `a` to the power of 2, is passed to **`map()`** alongside a list of numbers, `nums`. The *map object* that results from the call to **`map()`** is stored in result. You will now practice the use of lambda functions with **`map()`**. For this exercise, you will map the functionality of the `add_bangs()` function you defined in previous exercises over a list of strings.\n",
        "\n",
        "### **Instructions**\n",
        "\n",
        "- In the **`map()`** call, pass a lambda function that concatenates the string `'!!!'` to a string `item`; also pass the list of strings, `spells`. Assign the resulting map object to `shout_spells`.\n",
        "\n",
        "- Convert `shout_spells` to a list and print out the list."
      ],
      "metadata": {
        "id": "wvLU7JJdVH1O"
      }
    },
    {
      "cell_type": "code",
      "metadata": {
        "colab": {
          "base_uri": "https://localhost:8080/"
        },
        "id": "D86PLbbtrw3Y",
        "outputId": "6ce6adaa-c0a0-4398-ba1e-e408b5497ce6"
      },
      "source": [
        "### Map and lambda\n",
        "\n",
        "# Create a list of strings: spells\n",
        "spells = [\"protego\", \"accio\", \"expecto patronum\", \"legilimens\"]\n",
        "\n",
        "# Use map() to apply a lambda function over spells: shout_spells\n",
        "shout_spells = map(lambda item: item + \"!!!\", spells)\n",
        "\n",
        "# Convert shout_spells to a list: shout_spells_list\n",
        "shout_spells_list = list(shout_spells)\n",
        "\n",
        "# Print the result\n",
        "print(shout_spells_list)"
      ],
      "execution_count": null,
      "outputs": [
        {
          "output_type": "stream",
          "name": "stdout",
          "text": [
            "['protego!!!', 'accio!!!', 'expecto patronum!!!', 'legilimens!!!']\n"
          ]
        }
      ]
    },
    {
      "cell_type": "markdown",
      "source": [
        "### **Filter() and lambda functions**\n",
        "In the previous exercise, you used lambda functions to anonymously embed an operation within **`map()`**. You will practice this again in this exercise by using a lambda function with **`filter()`**, which may be new to you! The function **`filter()`** offers a way to filter out elements from a list <u>that don't satisfy certain criteria</u>.\n",
        "\n",
        "Your goal in this exercise is to use **`filter()`** to create, from an input list of strings, a new list that contains only strings that have more than 6 characters.\n",
        "\n",
        "### **Instructions**\n",
        "\n",
        "- In the **`filter()`** call, pass a lambda function and the list of strings, `fellowship`. The lambda function should check if the number of characters in a string member is greater than `6`; use the **`len()`** function to do this.\n",
        "\n",
        "- Assign the resulting filter object to `result`.\n",
        "\n",
        "- Convert `result` to a list and print out the list."
      ],
      "metadata": {
        "id": "2-7CXUm1Wc1n"
      }
    },
    {
      "cell_type": "code",
      "metadata": {
        "colab": {
          "base_uri": "https://localhost:8080/"
        },
        "id": "xKKs-BHI_SMz",
        "outputId": "67f4d205-d33c-4db6-9174-b90f7d94d59c"
      },
      "source": [
        "### Filter and lambda\n",
        "# Create a list of strings: fellowship\n",
        "fellowship = ['frodo', 'samwise', 'merry', 'pippin', 'aragorn', 'boromir', 'legolas', 'gimli', 'gandalf']\n",
        "\n",
        "# Use filter() to apply a lambda function over fellowship: result\n",
        "result = filter(lambda x:  len(x) > 6, fellowship)\n",
        "result2 = filter(lambda x: x if len(x) > 6 else None, fellowship) # Another accepted solution\n",
        "# Convert result to a list: result_list\n",
        "result_list = list(result)\n",
        "\n",
        "# Print result_list\n",
        "print(result_list)\n",
        "print(list(result2))"
      ],
      "execution_count": null,
      "outputs": [
        {
          "output_type": "stream",
          "name": "stdout",
          "text": [
            "['samwise', 'aragorn', 'boromir', 'legolas', 'gandalf']\n",
            "['samwise', 'aragorn', 'boromir', 'legolas', 'gandalf']\n"
          ]
        }
      ]
    },
    {
      "cell_type": "markdown",
      "source": [
        "### **Reduce() and lambda functions**\n",
        "\n",
        "The **`reduce()`** function is useful for performing some computation on a list and, unlike **`map()`** and **`filter()`**, returns a single value as a result. To use **`reduce()`**, you must import it from the **`functools`** module.\n",
        "\n",
        "Remember `gibberish()` from a few exercises back?\n",
        "\n",
        "```\n",
        "# Define gibberish\n",
        "def gibberish(*args):\n",
        "    \"\"\"Concatenate strings in *args together.\"\"\"\n",
        "    hodgepodge = ''\n",
        "    for word in args:\n",
        "        hodgepodge += word\n",
        "    return hodgepodge\n",
        "```\n",
        "\n",
        "`gibberish()` simply takes a list of strings as an argument and returns, as a single-value result, the concatenation of all of these strings. In this exercise, you will replicate this functionality by using **`reduce()`** and a lambda function that concatenates strings together.\n",
        "\n",
        "### **Instructions**\n",
        "\n",
        "- Import the **`reduce`** function from the **`functools`** module.\n",
        "\n",
        "- In the **`reduce()`** call, pass a lambda function that takes two string arguments `item1` and `item2` and concatenates them; also pass the list of strings, `stark`.\n",
        "\n",
        "- Assign the result to `result`. The first argument to **`reduce()`** should be the lambda function and the second argument is the list `stark`."
      ],
      "metadata": {
        "id": "3JG6rMxUX_nt"
      }
    },
    {
      "cell_type": "code",
      "metadata": {
        "colab": {
          "base_uri": "https://localhost:8080/"
        },
        "id": "dz0wUx-3B1Py",
        "outputId": "526dcd5d-d6d1-40fe-987e-465618659dd7"
      },
      "source": [
        "### Reduce and Lambda\n",
        "# Import reduce from functools\n",
        "from functools import reduce\n",
        "\n",
        "# Create a list of strings: stark\n",
        "stark = ['robb, ', 'sansa, ', 'arya, ', 'brandon, ', 'rickon']\n",
        "\n",
        "# Use reduce() to apply a lambda function over stark: result\n",
        "result = reduce(lambda item1, item2: item1 + item2, stark)\n",
        "\n",
        "# Print the result\n",
        "print(result)"
      ],
      "execution_count": null,
      "outputs": [
        {
          "output_type": "stream",
          "name": "stdout",
          "text": [
            "robb, sansa, arya, brandon, rickon\n"
          ]
        }
      ]
    },
    {
      "cell_type": "markdown",
      "source": [
        "# **Error Handling**\n",
        "\n",
        "## **Passing invalid arguments**"
      ],
      "metadata": {
        "id": "nNRNFFHuaQ0V"
      }
    },
    {
      "cell_type": "code",
      "source": [
        "def sqrt(x):\n",
        "    \"\"\"Returns the square root of a number.\"\"\"\n",
        "    return x ** (0.5)\n",
        "\n",
        "sqrt(4)\n"
      ],
      "metadata": {
        "colab": {
          "base_uri": "https://localhost:8080/"
        },
        "id": "rxCTeKhKlIcW",
        "outputId": "66909469-5aab-4116-8b2d-40c1ed640e4c"
      },
      "execution_count": 1,
      "outputs": [
        {
          "output_type": "execute_result",
          "data": {
            "text/plain": [
              "2.0"
            ]
          },
          "metadata": {},
          "execution_count": 1
        }
      ]
    },
    {
      "cell_type": "code",
      "source": [
        "sqrt('hello')"
      ],
      "metadata": {
        "colab": {
          "base_uri": "https://localhost:8080/",
          "height": 274
        },
        "id": "JW-EuKhylNtk",
        "outputId": "56f33490-552a-4a66-b435-d7d33758333d"
      },
      "execution_count": 2,
      "outputs": [
        {
          "output_type": "error",
          "ename": "TypeError",
          "evalue": "unsupported operand type(s) for ** or pow(): 'str' and 'float'",
          "traceback": [
            "\u001b[0;31m---------------------------------------------------------------------------\u001b[0m",
            "\u001b[0;31mTypeError\u001b[0m                                 Traceback (most recent call last)",
            "\u001b[0;32m<ipython-input-2-0690b4d55a1e>\u001b[0m in \u001b[0;36m<cell line: 1>\u001b[0;34m()\u001b[0m\n\u001b[0;32m----> 1\u001b[0;31m \u001b[0msqrt\u001b[0m\u001b[0;34m(\u001b[0m\u001b[0;34m'hello'\u001b[0m\u001b[0;34m)\u001b[0m\u001b[0;34m\u001b[0m\u001b[0;34m\u001b[0m\u001b[0m\n\u001b[0m",
            "\u001b[0;32m<ipython-input-1-b8a6b1369a92>\u001b[0m in \u001b[0;36msqrt\u001b[0;34m(x)\u001b[0m\n\u001b[1;32m      1\u001b[0m \u001b[0;32mdef\u001b[0m \u001b[0msqrt\u001b[0m\u001b[0;34m(\u001b[0m\u001b[0mx\u001b[0m\u001b[0;34m)\u001b[0m\u001b[0;34m:\u001b[0m\u001b[0;34m\u001b[0m\u001b[0;34m\u001b[0m\u001b[0m\n\u001b[1;32m      2\u001b[0m     \u001b[0;34m\"\"\"Returns the square root of a number.\"\"\"\u001b[0m\u001b[0;34m\u001b[0m\u001b[0;34m\u001b[0m\u001b[0m\n\u001b[0;32m----> 3\u001b[0;31m     \u001b[0;32mreturn\u001b[0m \u001b[0mx\u001b[0m \u001b[0;34m**\u001b[0m \u001b[0;34m(\u001b[0m\u001b[0;36m0.5\u001b[0m\u001b[0;34m)\u001b[0m\u001b[0;34m\u001b[0m\u001b[0;34m\u001b[0m\u001b[0m\n\u001b[0m\u001b[1;32m      4\u001b[0m \u001b[0;34m\u001b[0m\u001b[0m\n\u001b[1;32m      5\u001b[0m \u001b[0msqrt\u001b[0m\u001b[0;34m(\u001b[0m\u001b[0;36m4\u001b[0m\u001b[0;34m)\u001b[0m\u001b[0;34m\u001b[0m\u001b[0;34m\u001b[0m\u001b[0m\n",
            "\u001b[0;31mTypeError\u001b[0m: unsupported operand type(s) for ** or pow(): 'str' and 'float'"
          ]
        }
      ]
    },
    {
      "cell_type": "markdown",
      "source": [
        "## **Errors and exceptions**"
      ],
      "metadata": {
        "id": "UYBLZdUXlgFs"
      }
    },
    {
      "cell_type": "code",
      "source": [
        "def sqrt(x):\n",
        "    \"\"\"Returns the square root of a number.\"\"\"\n",
        "    try:\n",
        "        return x ** 0.5\n",
        "    except:\n",
        "        print('x must be an int or float')\n",
        "\n",
        "sqrt(4)"
      ],
      "metadata": {
        "colab": {
          "base_uri": "https://localhost:8080/"
        },
        "id": "aWn_zLMWlm65",
        "outputId": "effcabf2-30d9-4fb1-8cb6-117c320f3471"
      },
      "execution_count": 3,
      "outputs": [
        {
          "output_type": "execute_result",
          "data": {
            "text/plain": [
              "2.0"
            ]
          },
          "metadata": {},
          "execution_count": 3
        }
      ]
    },
    {
      "cell_type": "code",
      "source": [
        "sqrt('hello')"
      ],
      "metadata": {
        "colab": {
          "base_uri": "https://localhost:8080/"
        },
        "id": "9evWnWcalwce",
        "outputId": "0963e00a-f0a2-479c-9cf7-979f690608f2"
      },
      "execution_count": 4,
      "outputs": [
        {
          "output_type": "stream",
          "name": "stdout",
          "text": [
            "x must be an int or float\n"
          ]
        }
      ]
    },
    {
      "cell_type": "markdown",
      "source": [
        "## **Specify Error Type**"
      ],
      "metadata": {
        "id": "doLuDf-qmEzW"
      }
    },
    {
      "cell_type": "code",
      "source": [
        "def sqrt(x):\n",
        "    \"\"\"Returns the square root of a number.\"\"\"\n",
        "    try:\n",
        "        return x ** 0.5\n",
        "    except TypeError:\n",
        "        print('x must be an int or float')\n",
        "\n",
        "sqrt('h')"
      ],
      "metadata": {
        "colab": {
          "base_uri": "https://localhost:8080/"
        },
        "id": "D_X-VaAzmJNo",
        "outputId": "53129ff3-8c7c-430a-f4d7-b09017acf163"
      },
      "execution_count": 6,
      "outputs": [
        {
          "output_type": "stream",
          "name": "stdout",
          "text": [
            "x must be an int or float\n"
          ]
        }
      ]
    },
    {
      "cell_type": "markdown",
      "source": [
        "## **Raising Errors**"
      ],
      "metadata": {
        "id": "hcRjXEWYmj42"
      }
    },
    {
      "cell_type": "code",
      "source": [
        "# We do not want complex number\n",
        "sqrt(-3)"
      ],
      "metadata": {
        "colab": {
          "base_uri": "https://localhost:8080/"
        },
        "id": "05IqU3PAmZrq",
        "outputId": "ef4a8acb-c2c1-40c3-ef21-52acea97a875"
      },
      "execution_count": 8,
      "outputs": [
        {
          "output_type": "execute_result",
          "data": {
            "text/plain": [
              "(1.0605752387249068e-16+1.7320508075688772j)"
            ]
          },
          "metadata": {},
          "execution_count": 8
        }
      ]
    },
    {
      "cell_type": "code",
      "source": [
        "def sqrt(x):\n",
        "    \"\"\"Returns the square root of a number.\"\"\"\n",
        "    if x < 0:\n",
        "        raise ValueError('x must be non-negative')\n",
        "    try:\n",
        "        return x ** 0.5\n",
        "    except TypeError:\n",
        "        print('x must be an int or float')\n",
        "\n",
        "sqrt(-4)"
      ],
      "metadata": {
        "colab": {
          "base_uri": "https://localhost:8080/",
          "height": 311
        },
        "id": "wOuhowPqmzmq",
        "outputId": "4a32c11e-67ed-47e4-b51d-4d067d4d7d38"
      },
      "execution_count": 9,
      "outputs": [
        {
          "output_type": "error",
          "ename": "ValueError",
          "evalue": "x must be non-negative",
          "traceback": [
            "\u001b[0;31m---------------------------------------------------------------------------\u001b[0m",
            "\u001b[0;31mValueError\u001b[0m                                Traceback (most recent call last)",
            "\u001b[0;32m<ipython-input-9-21d78c36dc7e>\u001b[0m in \u001b[0;36m<cell line: 10>\u001b[0;34m()\u001b[0m\n\u001b[1;32m      8\u001b[0m         \u001b[0mprint\u001b[0m\u001b[0;34m(\u001b[0m\u001b[0;34m'x must be an int or float'\u001b[0m\u001b[0;34m)\u001b[0m\u001b[0;34m\u001b[0m\u001b[0;34m\u001b[0m\u001b[0m\n\u001b[1;32m      9\u001b[0m \u001b[0;34m\u001b[0m\u001b[0m\n\u001b[0;32m---> 10\u001b[0;31m \u001b[0msqrt\u001b[0m\u001b[0;34m(\u001b[0m\u001b[0;34m-\u001b[0m\u001b[0;36m4\u001b[0m\u001b[0;34m)\u001b[0m\u001b[0;34m\u001b[0m\u001b[0;34m\u001b[0m\u001b[0m\n\u001b[0m",
            "\u001b[0;32m<ipython-input-9-21d78c36dc7e>\u001b[0m in \u001b[0;36msqrt\u001b[0;34m(x)\u001b[0m\n\u001b[1;32m      2\u001b[0m     \u001b[0;34m\"\"\"Returns the square root of a number.\"\"\"\u001b[0m\u001b[0;34m\u001b[0m\u001b[0;34m\u001b[0m\u001b[0m\n\u001b[1;32m      3\u001b[0m     \u001b[0;32mif\u001b[0m \u001b[0mx\u001b[0m \u001b[0;34m<\u001b[0m \u001b[0;36m0\u001b[0m\u001b[0;34m:\u001b[0m\u001b[0;34m\u001b[0m\u001b[0;34m\u001b[0m\u001b[0m\n\u001b[0;32m----> 4\u001b[0;31m         \u001b[0;32mraise\u001b[0m \u001b[0mValueError\u001b[0m\u001b[0;34m(\u001b[0m\u001b[0;34m'x must be non-negative'\u001b[0m\u001b[0;34m)\u001b[0m\u001b[0;34m\u001b[0m\u001b[0;34m\u001b[0m\u001b[0m\n\u001b[0m\u001b[1;32m      5\u001b[0m     \u001b[0;32mtry\u001b[0m\u001b[0;34m:\u001b[0m\u001b[0;34m\u001b[0m\u001b[0;34m\u001b[0m\u001b[0m\n\u001b[1;32m      6\u001b[0m         \u001b[0;32mreturn\u001b[0m \u001b[0mx\u001b[0m \u001b[0;34m**\u001b[0m \u001b[0;36m0.5\u001b[0m\u001b[0;34m\u001b[0m\u001b[0;34m\u001b[0m\u001b[0m\n",
            "\u001b[0;31mValueError\u001b[0m: x must be non-negative"
          ]
        }
      ]
    },
    {
      "cell_type": "markdown",
      "source": [
        "### **Error handling with try-except**\n",
        "\n",
        "A good practice in writing your own functions is also anticipating the ways in which other people (or yourself, if you accidentally misuse your own function) might use the function you defined.\n",
        "\n",
        "For example the **`len()`** function is able to handle input arguments such as strings, lists, and tuples, but not `int` type ones and raises an appropriate error and error message when it encounters invalid input arguments. One way of doing this is through exception handling with the `try-except` block.\n",
        "\n",
        "In this exercise, you will define a function as well as use a `try-except` block for handling cases when incorrect input arguments are passed to the function.\n",
        "\n",
        "Recall the `shout_echo()` function you defined in previous exercises; parts of the function definition are provided in the sample code. Your goal is to complete the exception handling code in the function definition and provide an appropriate error message when raising an error.\n",
        "\n",
        "### **Instructions**\n",
        "\n",
        "- Initialize the variables `echo_word` and `shout_words` to empty strings.\n",
        "\n",
        "- Add the keywords `try` and `except` in the appropriate locations for the exception handling block.\n",
        "\n",
        "- Use the `*` operator to concatenate `echo` copies of `word1`. Assign the result to `echo_word`.\n",
        "\n",
        "- Concatenate the string `'!!!'` to `echo_word`. Assign the result to `shout_words`."
      ],
      "metadata": {
        "id": "ErbA0zoOnHuv"
      }
    },
    {
      "cell_type": "code",
      "metadata": {
        "colab": {
          "base_uri": "https://localhost:8080/",
          "height": 54
        },
        "id": "Qw5h57DfCeCr",
        "outputId": "ed44a9e1-9faf-45b5-8ec6-e35f9984fdbe"
      },
      "source": [
        "### Error Handling using TRY-EXCEPT\n",
        "\n",
        "# Define shout_echo\n",
        "def shout_echo(word1, echo=1):\n",
        "    \"\"\"Concatenate echo copies of word1 and three\n",
        "    exclamation marks at the end of the string.\"\"\"\n",
        "\n",
        "    # Initialize empty strings: echo_word, shout_words\n",
        "    echo_word = \"\"\n",
        "    shout_words = \"\"\n",
        "\n",
        "\n",
        "    # Add exception handling with try-except\n",
        "    try:\n",
        "        # Concatenate echo copies of word1 using *: echo_word\n",
        "        echo_word = word1 * echo\n",
        "\n",
        "        # Concatenate '!!!' to echo_word: shout_words\n",
        "        shout_words = echo_word + \"!!!\"\n",
        "    except:\n",
        "        # Print error message\n",
        "        print(\"word1 must be a string and echo must be an integer.\")\n",
        "\n",
        "    # Return shout_words\n",
        "    return shout_words\n",
        "\n",
        "# Call shout_echo\n",
        "shout_echo(\"particle\", echo=\"accelerator\")\n",
        "\n"
      ],
      "execution_count": 10,
      "outputs": [
        {
          "output_type": "stream",
          "name": "stdout",
          "text": [
            "word1 must be a string and echo must be an integer.\n"
          ]
        },
        {
          "output_type": "execute_result",
          "data": {
            "text/plain": [
              "''"
            ],
            "application/vnd.google.colaboratory.intrinsic+json": {
              "type": "string"
            }
          },
          "metadata": {},
          "execution_count": 10
        }
      ]
    },
    {
      "cell_type": "markdown",
      "source": [
        "### **Error handling by raising an error**\n",
        "\n",
        "Another way to raise an error is by using **`raise`๕๕. In this exercise, you will add a **`raise`** statement to the `shout_echo()` function you defined before to raise an error message when the value supplied by the user to the echo argument is less than `0`.\n",
        "\n",
        "The call to `shout_echo()` uses valid argument values. To test and see how the raise statement works, simply change the value for the echo argument to a negative value.\n",
        "\n",
        "### **Instructions**\n",
        "\n",
        "\n",
        "- Complete the `if` statement by checking if the value of `echo` is less than `0`.\n",
        "- In the body of the `if` statement, add a **`raise`** statement that raises a `ValueError` with message `'echo must be greater than or equal to 0'` when the value supplied by the user to echo is less than `0`."
      ],
      "metadata": {
        "id": "L7Epv01ho0dt"
      }
    },
    {
      "cell_type": "code",
      "source": [
        "# Define shout_echo\n",
        "def shout_echo(word1, echo=1):\n",
        "    \"\"\"Concatenate echo copies of word1 and three\n",
        "    exclamation marks at the end of the string.\"\"\"\n",
        "\n",
        "    # Raise an error with raise\n",
        "    if echo < 0:\n",
        "        raise ValueError(\"echo must be greater than or equal to 0\")\n",
        "\n",
        "    # Concatenate echo copies of word1 using *: echo_word\n",
        "    echo_word = word1 * echo\n",
        "\n",
        "    # Concatenate '!!!' to echo_word: shout_word\n",
        "    shout_word = echo_word + '!!!'\n",
        "\n",
        "    # Return shout_word\n",
        "    return shout_word\n",
        "\n",
        "# Call shout_echo\n",
        "shout_echo(\"particle\", echo=-5)"
      ],
      "metadata": {
        "colab": {
          "base_uri": "https://localhost:8080/",
          "height": 311
        },
        "id": "YG80wGrNo1PG",
        "outputId": "2f34600c-76e7-4a58-edbe-60f9dbd3700b"
      },
      "execution_count": 11,
      "outputs": [
        {
          "output_type": "error",
          "ename": "ValueError",
          "evalue": "echo must be greater than or equal to 0",
          "traceback": [
            "\u001b[0;31m---------------------------------------------------------------------------\u001b[0m",
            "\u001b[0;31mValueError\u001b[0m                                Traceback (most recent call last)",
            "\u001b[0;32m<ipython-input-11-111bd2866389>\u001b[0m in \u001b[0;36m<cell line: 20>\u001b[0;34m()\u001b[0m\n\u001b[1;32m     18\u001b[0m \u001b[0;34m\u001b[0m\u001b[0m\n\u001b[1;32m     19\u001b[0m \u001b[0;31m# Call shout_echo\u001b[0m\u001b[0;34m\u001b[0m\u001b[0;34m\u001b[0m\u001b[0m\n\u001b[0;32m---> 20\u001b[0;31m \u001b[0mshout_echo\u001b[0m\u001b[0;34m(\u001b[0m\u001b[0;34m\"particle\"\u001b[0m\u001b[0;34m,\u001b[0m \u001b[0mecho\u001b[0m\u001b[0;34m=\u001b[0m\u001b[0;34m-\u001b[0m\u001b[0;36m5\u001b[0m\u001b[0;34m)\u001b[0m\u001b[0;34m\u001b[0m\u001b[0;34m\u001b[0m\u001b[0m\n\u001b[0m",
            "\u001b[0;32m<ipython-input-11-111bd2866389>\u001b[0m in \u001b[0;36mshout_echo\u001b[0;34m(word1, echo)\u001b[0m\n\u001b[1;32m      6\u001b[0m     \u001b[0;31m# Raise an error with raise\u001b[0m\u001b[0;34m\u001b[0m\u001b[0;34m\u001b[0m\u001b[0m\n\u001b[1;32m      7\u001b[0m     \u001b[0;32mif\u001b[0m \u001b[0mecho\u001b[0m \u001b[0;34m<\u001b[0m \u001b[0;36m0\u001b[0m\u001b[0;34m:\u001b[0m\u001b[0;34m\u001b[0m\u001b[0;34m\u001b[0m\u001b[0m\n\u001b[0;32m----> 8\u001b[0;31m         \u001b[0;32mraise\u001b[0m \u001b[0mValueError\u001b[0m\u001b[0;34m(\u001b[0m\u001b[0;34m\"echo must be greater than or equal to 0\"\u001b[0m\u001b[0;34m)\u001b[0m\u001b[0;34m\u001b[0m\u001b[0;34m\u001b[0m\u001b[0m\n\u001b[0m\u001b[1;32m      9\u001b[0m \u001b[0;34m\u001b[0m\u001b[0m\n\u001b[1;32m     10\u001b[0m     \u001b[0;31m# Concatenate echo copies of word1 using *: echo_word\u001b[0m\u001b[0;34m\u001b[0m\u001b[0;34m\u001b[0m\u001b[0m\n",
            "\u001b[0;31mValueError\u001b[0m: echo must be greater than or equal to 0"
          ]
        }
      ]
    },
    {
      "cell_type": "markdown",
      "source": [
        "### **Bringing it all together (1)**\n",
        "\n",
        "You have now learned how to write anonymous functions using `lambda`, how to pass lambda functions as arguments to other functions such as **`map()`**, **`filter()`**, and **`reduce()`**, as well as how to write errors and output custom error messages within your functions. You will now put together these learnings to good use by working with a Twitter dataset. Before practicing your new error handling skills; in this exercise, you will write a `lambda` function and use **`filter()`** to select retweets, that is, tweets that begin with the string `'RT'`.\n",
        "\n",
        "### **Instructions**\n",
        "\n",
        "- In the **`filter()`** call, pass a `lambda` function and the sequence of tweets as strings, `tweets_df['text']`. The lambda function should check if the first 2 characters in a tweet `x` are `'RT'`. Assign the resulting filter object to result. To get the first 2 characters in a tweet `x`, use `x[0:2]`. To check equality, use a Boolean filter with `==`.\n",
        "\n",
        "- Convert `result` to a list and print out the list."
      ],
      "metadata": {
        "id": "FzCGuY-sqIUv"
      }
    },
    {
      "cell_type": "code",
      "metadata": {
        "colab": {
          "base_uri": "https://localhost:8080/"
        },
        "id": "XhGOMhr4FeDl",
        "outputId": "633c5a25-f828-4d52-b387-0f95c97b7d09"
      },
      "source": [
        "import pandas as pd\n",
        "tweets_df = pd.read_csv(\"tweets.csv\")\n",
        "# Select retweets from the Twitter DataFrame: result\n",
        "result = filter(lambda x: x[:2] == \"RT\", tweets_df['text'])\n",
        "\n",
        "# Create list from filter object result: res_list\n",
        "res_list = list(result)\n",
        "\n",
        "# Print all retweets in res_list\n",
        "for tweet in res_list:\n",
        "    print(tweet)"
      ],
      "execution_count": null,
      "outputs": [
        {
          "output_type": "stream",
          "text": [
            "RT @bpolitics: .@krollbondrating's Christopher Whalen says Clinton is the weakest Dem candidate in 50 years https://t.co/pLk7rvoRSn https:/…\n",
            "RT @HeidiAlpine: @dmartosko Cruz video found.....racing from the scene.... #cruzsexscandal https://t.co/zuAPZfQDk3\n",
            "RT @AlanLohner: The anti-American D.C. elites despise Trump for his America-first foreign policy. Trump threatens their gravy train. https:…\n",
            "RT @BIackPplTweets: Young Donald trump meets his neighbor  https://t.co/RFlu17Z1eE\n",
            "RT @trumpresearch: @WaitingInBagdad @thehill Trump supporters have selective amnisia.\n",
            "RT @HouseCracka: 29,000+ PEOPLE WATCHING TRUMP LIVE ON ONE STREAM!!!\n",
            "\n",
            "https://t.co/7QCFz9ehNe\n",
            "RT @urfavandtrump: RT for Brendon Urie\n",
            "Fav for Donald Trump https://t.co/PZ5vS94lOg\n",
            "RT @trapgrampa: This is how I see #Trump every time he speaks. https://t.co/fYSiHNS0nT\n",
            "RT @trumpresearch: @WaitingInBagdad @thehill Trump supporters have selective amnisia.\n",
            "RT @Pjw20161951: NO KIDDING: #SleazyDonald just attacked Scott Walker for NOT RAISING TAXES in WI! #LyinTrump\n",
            "#NeverTrump  #CruzCrew  https…\n",
            "RT @urfavandtrump: RT for Brendon Urie\n",
            "Fav for Donald Trump https://t.co/PZ5vS94lOg\n",
            "RT @ggreenwald: The media spent all day claiming @SusanSarandon said she might vote for Trump. A total fabrication, but whatever... https:/…\n",
            "RT @Pjw20161951: NO KIDDING: #SleazyDonald just attacked Scott Walker for NOT RAISING TAXES in WI! #LyinTrump\n",
            "#NeverTrump  #CruzCrew  https…\n",
            "RT @trapgrampa: This is how I see #Trump every time he speaks. https://t.co/fYSiHNS0nT\n",
            "RT @mitchellvii: So let me get this straight.  Any reporter can assault Mr Trump at any time and Corey can do nothing?  Michelle is clearly…\n",
            "RT @paulbenedict7: How #Trump Sacks RINO Strongholds by Hitting Positions Held by Dems and GOP https://t.co/D7ulnAJhis   #tcot #PJNET https…\n",
            "RT @DRUDGE_REPORT: VIDEO:  Trump emotional moment with Former Miss Wisconsin who has terminal illness... https://t.co/qt06aG9inT\n",
            "RT @ggreenwald: The media spent all day claiming @SusanSarandon said she might vote for Trump. A total fabrication, but whatever... https:/…\n",
            "RT @DennisApgar: Thank God I seen Trump at first stop in Wisconsin media doesn't know how great he is, advice watch live streaming https://…\n",
            "RT @paulbenedict7: How #Trump Sacks RINO Strongholds by Hitting Positions Held by Dems and GOP https://t.co/D7ulnAJhis   #tcot #PJNET https…\n",
            "RT @DRUDGE_REPORT: VIDEO:  Trump emotional moment with Former Miss Wisconsin who has terminal illness... https://t.co/qt06aG9inT\n",
            "RT @DennisApgar: Thank God I seen Trump at first stop in Wisconsin media doesn't know how great he is, advice watch live streaming https://…\n",
            "RT @mitchellvii: So let me get this straight.  Any reporter can assault Mr Trump at any time and Corey can do nothing?  Michelle is clearly…\n",
            "RT @sciam: Trump's idiosyncratic patterns of speech are why people tend either to love or hate him https://t.co/QXwquVgs3c https://t.co/P9N…\n",
            "RT @Norsu2: Nightmare WI poll for Ted Cruz has Kasich surging: Trump 29, Kasich 27, Cruz 25. https://t.co/lJsgbLYY1P #NeverTrump\n",
            "RT @thehill: WATCH: Protester pepper-sprayed point blank at Trump rally https://t.co/B5f65Al9ld https://t.co/skAfByXuQc\n",
            "RT @sciam: Trump's idiosyncratic patterns of speech are why people tend either to love or hate him https://t.co/QXwquVgs3c https://t.co/P9N…\n",
            "RT @ggreenwald: The media spent all day claiming @SusanSarandon said she might vote for Trump. A total fabrication, but whatever... https:/…\n",
            "RT @DebbieStout5: Wow! Last I checked it was just 12 points &amp; that wasn't more than a day ago. Oh boy Trump ppl might want to rethink🤔 http…\n",
            "RT @tyleroakley: i'm a messy bitch, but at least i'm not voting for trump\n",
            "RT @vandives: Trump supporters r tired of justice NOT being served. There's no justice anymore. Hardworking Americans get screwed. That's n…\n",
            "RT @AP: BREAKING: Trump vows to stand by campaign manager charged with battery, says he does not discard people.\n",
            "RT @AP: BREAKING: Trump vows to stand by campaign manager charged with battery, says he does not discard people.\n",
            "RT @urfavandtrump: RT for Jerrie (Little Mix)\n",
            "Fav for Donald Trump https://t.co/nEVxElW6iG\n",
            "RT @urfavandtrump: RT for Jerrie (Little Mix)\n",
            "Fav for Donald Trump https://t.co/nEVxElW6iG\n",
            "RT @NoahCRothman: When Walker was fighting for reforms, Trump was defending unions and collective bargaining privileges https://t.co/e1UWNN…\n",
            "RT @RedheadAndRight: Report: Secret Service Says Michelle Fields Touched Trump https://t.co/c5c2sD8VO2\n",
            "\n",
            "This is the only article you will n…\n",
            "RT @AIIAmericanGirI: VIDEO=&gt; Anti-Trump Protester SLUGS Elderly Trump Supporter in the Face\n",
            "https://t.co/GeEryMDuDY\n",
            "RT @NoahCRothman: When Walker was fighting for reforms, Trump was defending unions and collective bargaining privileges https://t.co/e1UWNN…\n",
            "RT @JusticeRanger1: @realDonaldTrump @Pudingtane @DanScavino @GOP @infowars @EricTrump \n",
            "URGENT PUBLIC TRUMP ALERT:\n",
            "COVERT KILL MEANS https:…\n",
            "RT @AIIAmericanGirI: VIDEO=&gt; Anti-Trump Protester SLUGS Elderly Trump Supporter in the Face\n",
            "https://t.co/GeEryMDuDY\n",
            "RT @RedheadAndRight: Report: Secret Service Says Michelle Fields Touched Trump https://t.co/c5c2sD8VO2\n",
            "\n",
            "This is the only article you will n…\n",
            "RT @JusticeRanger1: @realDonaldTrump @Pudingtane @DanScavino @GOP @infowars @EricTrump \n",
            "URGENT PUBLIC TRUMP ALERT:\n",
            "COVERT KILL MEANS https:…\n",
            "RT @Schneider_CM: Trump says nobody had ever heard of executive orders before Obama started signing them. Never heard of the Emancipation P…\n",
            "RT @RonBasler1: @DavidWhitDennis @realDonaldTrump @tedcruz \n",
            "\n",
            "CRUZ SCREWS HOOKERS\n",
            "\n",
            "CRUZ / CLINTON\n",
            "RT @DonaldsAngel: Former Ms. WI just said that she is terminally ill but because of Trump pageant, her 7 yr. old son has his college educat…\n",
            "RT @Schneider_CM: Trump says nobody had ever heard of executive orders before Obama started signing them. Never heard of the Emancipation P…\n",
            "RT @DonaldsAngel: Former Ms. WI just said that she is terminally ill but because of Trump pageant, her 7 yr. old son has his college educat…\n",
            "RT @Dodarey: @DR8801 @SykesCharlie Charlie, let's see you get a straight \"yes\" or \"no\" answer from Cruz a/b being unfaithful to his wife @T…\n",
            "RT @RonBasler1: @DavidWhitDennis @realDonaldTrump @tedcruz \n",
            "\n",
            "CRUZ SCREWS HOOKERS\n",
            "\n",
            "CRUZ / CLINTON\n",
            "RT @RockCliffOne: Remember when the idea of a diabolical moron holding the world hostage was an idea for a funny movie? #Trump #GOP https:/…\n",
            "RT @HillaryClinton: \"Every day, another Republican bemoans the rise of Donald Trump... but [he] didn’t come out of nowhere.\" —Hillary\n",
            "https…\n",
            "RT @Dodarey: @DR8801 @SykesCharlie Charlie, let's see you get a straight \"yes\" or \"no\" answer from Cruz a/b being unfaithful to his wife @T…\n",
            "RT @HillaryClinton: \"Every day, another Republican bemoans the rise of Donald Trump... but [he] didn’t come out of nowhere.\" —Hillary\n",
            "https…\n",
            "RT @RockCliffOne: Remember when the idea of a diabolical moron holding the world hostage was an idea for a funny movie? #Trump #GOP https:/…\n",
            "RT @immigrant4trump: @immigrant4trump msm, cable news attacking trump all day, from 8am to 10pm today, then the reruns come on, repeating t…\n",
            "RT @immigrant4trump: @immigrant4trump msm, cable news attacking trump all day, from 8am to 10pm today, then the reruns come on, repeating t…\n",
            "RT @GlendaJazzey: Donald Trump’s Campaign Financing Dodge, @rrotunda https://t.co/L8flI4lswG via @VerdictJustia\n",
            "RT @TUSK81: LOUDER FOR THE PEOPLE IN THE BACK https://t.co/hlPVyNLXzx\n",
            "RT @loopzoop: Well...put it back https://t.co/8Yb7BDT5VM\n",
            "RT @claytoncubitt: Stop asking Bernie supporters if they’ll vote for Hillary against Trump. We got a plan to beat Trump already. Called Ber…\n",
            "RT @akaMaude13: Seriously can't make this up. What a joke. #NeverTrump  https://t.co/JkTx6mdRgC\n"
          ],
          "name": "stdout"
        }
      ]
    },
    {
      "cell_type": "markdown",
      "source": [
        "### **Bringing it all together (2)**\n",
        "\n",
        "Sometimes, we make mistakes when calling functions - even ones you made yourself. But don't fret! In this exercise, you will improve on your previous work with the `count_entries()` function in the last chapter by adding a **`try-except`** block to it. This will allow your function to provide a helpful message when the user calls your `count_entries()` function but provides a column name that isn't in the DataFrame.\n",
        "\n",
        "### **Instructions**\n",
        "\n",
        "- Add a **`try`** block so that when the function is called with the correct arguments, it processes the DataFrame and returns a dictionary of results.\n",
        "\n",
        "- Add an **`except`** block so that when the function is called incorrectly, it displays the following error message: `'The DataFrame does not have a ' + col_name + ' column.'`"
      ],
      "metadata": {
        "id": "szYA1p0br18O"
      }
    },
    {
      "cell_type": "code",
      "metadata": {
        "colab": {
          "base_uri": "https://localhost:8080/"
        },
        "id": "qaEWUgO0IBDs",
        "outputId": "99341896-2784-42f5-d02f-26552d886aab"
      },
      "source": [
        "import pandas as pd\n",
        "tweets_df = pd.read_csv(\"tweets.csv\")\n",
        "\n",
        "# Define count_entries()\n",
        "def count_entries(df, col_name='lang'):\n",
        "    \"\"\"Return a dictionary with counts of\n",
        "    occurrences as value for each key.\"\"\"\n",
        "\n",
        "    # Initialize an empty dictionary: cols_count\n",
        "    cols_count = {}\n",
        "\n",
        "    # Add try block\n",
        "    try:\n",
        "        # Extract column from DataFrame: col\n",
        "        col = df[col_name]\n",
        "\n",
        "        # Iterate over the column in dataframe\n",
        "        for entry in col:\n",
        "\n",
        "            # If entry is in cols_count, add 1\n",
        "            if entry in cols_count.keys():\n",
        "                cols_count[entry] += 1\n",
        "            # Else add the entry to cols_count, set the value to 1\n",
        "            else:\n",
        "                cols_count[entry] = 1\n",
        "\n",
        "        # Return the cols_count dictionary\n",
        "        return cols_count\n",
        "\n",
        "    # Add except block\n",
        "    except:\n",
        "        'The DataFrame does not have a ' + col_name + ' column.'\n",
        "\n",
        "# Call count_entries(): result1\n",
        "result1 = count_entries(tweets_df, 'lang')\n",
        "\n",
        "# Print result1\n",
        "print(result1)"
      ],
      "execution_count": 13,
      "outputs": [
        {
          "output_type": "stream",
          "name": "stdout",
          "text": [
            "{'en': 97, 'et': 1, 'und': 2}\n"
          ]
        }
      ]
    },
    {
      "cell_type": "code",
      "source": [
        "print(count_entries(tweets_df, 'shit'))"
      ],
      "metadata": {
        "colab": {
          "base_uri": "https://localhost:8080/"
        },
        "id": "_qrgCP1XsklI",
        "outputId": "fe90610b-ac3e-4fc4-949e-e43c013c35bc"
      },
      "execution_count": 15,
      "outputs": [
        {
          "output_type": "stream",
          "name": "stdout",
          "text": [
            "None\n"
          ]
        }
      ]
    },
    {
      "cell_type": "markdown",
      "source": [
        "### **Bringing it all together (3)**\n",
        "\n",
        "In the previous exercise, you built on your function `count_entries()` to add a `try-except` block. This was so that users would get helpful messages when calling your `count_entries()` function and providing a column name that isn't in the DataFrame. In this exercise, you'll instead raise a `ValueError` in the case that the user provides a column name that isn't in the DataFrame.\n",
        "\n",
        "### **Instructions**\n",
        "\n",
        "- If `col_name` is not a column in the DataFrame `df`, raise a `ValueError` `'The DataFrame does not have a ' + col_name + ' column.'`.\n",
        "\n",
        "- Call your new function `count_entries()` to analyze the `'lang'` column of `tweets_df`. Store the result in `result1`.\n",
        "\n"
      ],
      "metadata": {
        "id": "vHJUAXk8tEV2"
      }
    },
    {
      "cell_type": "code",
      "metadata": {
        "colab": {
          "base_uri": "https://localhost:8080/"
        },
        "id": "UAelLjLsIl0W",
        "outputId": "62b680c0-3e7a-4740-f54a-50c55849145d"
      },
      "source": [
        "# Define count_entries()\n",
        "def count_entries(df, col_name='lang'):\n",
        "    \"\"\"Return a dictionary with counts of\n",
        "    occurrences as value for each key.\"\"\"\n",
        "\n",
        "    # Raise a ValueError if col_name is NOT in DataFrame\n",
        "    if col_name not in df.columns:\n",
        "       raise ValueError('The DataFrame does not have a ' + col_name + ' column.')\n",
        "\n",
        "    # Initialize an empty dictionary: cols_count\n",
        "    cols_count = {}\n",
        "\n",
        "    # Extract column from DataFrame: col\n",
        "    col = df[col_name]\n",
        "\n",
        "    # Iterate over the column in DataFrame\n",
        "    for entry in col:\n",
        "\n",
        "        # If entry is in cols_count, add 1\n",
        "        if entry in cols_count.keys():\n",
        "            cols_count[entry] += 1\n",
        "            # Else add the entry to cols_count, set the value to 1\n",
        "        else:\n",
        "            cols_count[entry] = 1\n",
        "\n",
        "        # Return the cols_count dictionary\n",
        "    return cols_count\n",
        "\n",
        "# Call count_entries(): result1\n",
        "result1 = count_entries(tweets_df, \"lang\")\n",
        "\n",
        "# Print result1\n",
        "print(result1)"
      ],
      "execution_count": 19,
      "outputs": [
        {
          "output_type": "stream",
          "name": "stdout",
          "text": [
            "{'en': 97, 'et': 1, 'und': 2}\n"
          ]
        }
      ]
    },
    {
      "cell_type": "markdown",
      "source": [
        "### **Bringing it all together: testing your error handling skills**\n",
        "\n",
        "You have just written error handling into your `count_entries()` function so that, when the user passes the function a column (as 2nd argument) NOT contained in the DataFrame (1st argument), a `ValueError` is thrown. You're now going to play with this function: it is loaded into pre-exercise code, as is the DataFrame `tweets_df`. Try calling `count_entries(tweets_df, 'lang')` to confirm that the function behaves as it should. Then call `count_entries(tweets_df, 'shit')`: what is the last line of the output?"
      ],
      "metadata": {
        "id": "hxohPHSYuYcC"
      }
    },
    {
      "cell_type": "code",
      "source": [
        "# Define count_entries()\n",
        "def count_entries(df, col_name='lang'):\n",
        "    \"\"\"Return a dictionary with counts of\n",
        "    occurrences as value for each key.\"\"\"\n",
        "\n",
        "    # Raise a ValueError if col_name is NOT in DataFrame\n",
        "    if col_name not in df.columns:\n",
        "       raise ValueError('The DataFrame does not have a ' + col_name + ' column.')\n",
        "\n",
        "    # Initialize an empty dictionary: cols_count\n",
        "    cols_count = {}\n",
        "\n",
        "    # Extract column from DataFrame: col\n",
        "    col = df[col_name]\n",
        "\n",
        "    # Iterate over the column in DataFrame\n",
        "    for entry in col:\n",
        "\n",
        "        # If entry is in cols_count, add 1\n",
        "        if entry in cols_count.keys():\n",
        "            cols_count[entry] += 1\n",
        "            # Else add the entry to cols_count, set the value to 1\n",
        "        else:\n",
        "            cols_count[entry] = 1\n",
        "\n",
        "        # Return the cols_count dictionary\n",
        "    return cols_count\n",
        "\n",
        "# Call count_entries(): result1\n",
        "result1 = count_entries(tweets_df, \"shit\")\n",
        "\n",
        "# Print result1\n",
        "print(result1)"
      ],
      "metadata": {
        "colab": {
          "base_uri": "https://localhost:8080/",
          "height": 348
        },
        "id": "AAXNUCFmuqCf",
        "outputId": "c67f1683-59cc-416b-9a35-f597175acb1a"
      },
      "execution_count": 18,
      "outputs": [
        {
          "output_type": "error",
          "ename": "ValueError",
          "evalue": "The DataFrame does not have a shit column.",
          "traceback": [
            "\u001b[0;31m---------------------------------------------------------------------------\u001b[0m",
            "\u001b[0;31mValueError\u001b[0m                                Traceback (most recent call last)",
            "\u001b[0;32m<ipython-input-18-ef86b45d5e28>\u001b[0m in \u001b[0;36m<cell line: 30>\u001b[0;34m()\u001b[0m\n\u001b[1;32m     28\u001b[0m \u001b[0;34m\u001b[0m\u001b[0m\n\u001b[1;32m     29\u001b[0m \u001b[0;31m# Call count_entries(): result1\u001b[0m\u001b[0;34m\u001b[0m\u001b[0;34m\u001b[0m\u001b[0m\n\u001b[0;32m---> 30\u001b[0;31m \u001b[0mresult1\u001b[0m \u001b[0;34m=\u001b[0m \u001b[0mcount_entries\u001b[0m\u001b[0;34m(\u001b[0m\u001b[0mtweets_df\u001b[0m\u001b[0;34m,\u001b[0m \u001b[0;34m\"shit\"\u001b[0m\u001b[0;34m)\u001b[0m\u001b[0;34m\u001b[0m\u001b[0;34m\u001b[0m\u001b[0m\n\u001b[0m\u001b[1;32m     31\u001b[0m \u001b[0;34m\u001b[0m\u001b[0m\n\u001b[1;32m     32\u001b[0m \u001b[0;31m# Print result1\u001b[0m\u001b[0;34m\u001b[0m\u001b[0;34m\u001b[0m\u001b[0m\n",
            "\u001b[0;32m<ipython-input-18-ef86b45d5e28>\u001b[0m in \u001b[0;36mcount_entries\u001b[0;34m(df, col_name)\u001b[0m\n\u001b[1;32m      6\u001b[0m     \u001b[0;31m# Raise a ValueError if col_name is NOT in DataFrame\u001b[0m\u001b[0;34m\u001b[0m\u001b[0;34m\u001b[0m\u001b[0m\n\u001b[1;32m      7\u001b[0m     \u001b[0;32mif\u001b[0m \u001b[0mcol_name\u001b[0m \u001b[0;32mnot\u001b[0m \u001b[0;32min\u001b[0m \u001b[0mdf\u001b[0m\u001b[0;34m.\u001b[0m\u001b[0mcolumns\u001b[0m\u001b[0;34m:\u001b[0m\u001b[0;34m\u001b[0m\u001b[0;34m\u001b[0m\u001b[0m\n\u001b[0;32m----> 8\u001b[0;31m        \u001b[0;32mraise\u001b[0m \u001b[0mValueError\u001b[0m\u001b[0;34m(\u001b[0m\u001b[0;34m'The DataFrame does not have a '\u001b[0m \u001b[0;34m+\u001b[0m \u001b[0mcol_name\u001b[0m \u001b[0;34m+\u001b[0m \u001b[0;34m' column.'\u001b[0m\u001b[0;34m)\u001b[0m\u001b[0;34m\u001b[0m\u001b[0;34m\u001b[0m\u001b[0m\n\u001b[0m\u001b[1;32m      9\u001b[0m \u001b[0;34m\u001b[0m\u001b[0m\n\u001b[1;32m     10\u001b[0m     \u001b[0;31m# Initialize an empty dictionary: cols_count\u001b[0m\u001b[0;34m\u001b[0m\u001b[0;34m\u001b[0m\u001b[0m\n",
            "\u001b[0;31mValueError\u001b[0m: The DataFrame does not have a shit column."
          ]
        }
      ]
    },
    {
      "cell_type": "code",
      "source": [],
      "metadata": {
        "id": "zaVjCQHguvPI"
      },
      "execution_count": null,
      "outputs": []
    }
  ]
}